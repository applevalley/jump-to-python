{
 "cells": [
  {
   "cell_type": "markdown",
   "metadata": {},
   "source": [
    "# 모듈\n",
    "\n",
    "## 만들어보자!"
   ]
  },
  {
   "cell_type": "code",
   "execution_count": null,
   "metadata": {},
   "outputs": [],
   "source": [
    "def add(a,b):\n",
    "    return a+b\n",
    "def sub(a,b):\n",
    "    return a-b"
   ]
  },
  {
   "cell_type": "markdown",
   "metadata": {},
   "source": [
    "위와 같이 함수로 정의된 파일 mod1.py를 만들었다. 이 파일이 바로 모듈이다."
   ]
  },
  {
   "cell_type": "code",
   "execution_count": 1,
   "metadata": {},
   "outputs": [
    {
     "name": "stdout",
     "output_type": "stream",
     "text": [
      "3\n"
     ]
    }
   ],
   "source": [
    "import mod1\n",
    "print(mod1.add(1,2))"
   ]
  },
  {
   "cell_type": "markdown",
   "metadata": {},
   "source": [
    "import mod1.py라고 적지 않게 조심하자! import는 모듈을 사용할 수 있게 하는 명령어! 파이썬 라이브러리가 저장된 곳에 있는 모듈만 불러올 수 있다. import 모듈 이름"
   ]
  },
  {
   "cell_type": "markdown",
   "metadata": {},
   "source": [
    "모듈의 함수 사용시 모듈 이름.함수 이름 식으로 사용하자."
   ]
  },
  {
   "cell_type": "code",
   "execution_count": 2,
   "metadata": {},
   "outputs": [
    {
     "data": {
      "text/plain": [
       "2"
      ]
     },
     "execution_count": 2,
     "metadata": {},
     "output_type": "execute_result"
    }
   ],
   "source": [
    "from mod1 import sub\n",
    "sub(5,3)"
   ]
  },
  {
   "cell_type": "markdown",
   "metadata": {},
   "source": [
    "from 모듈 이름 import 모듈 함수    처럼 쓰면 모듈 이름을 안 쓰고도 sub처럼 바로 함수를 쓸 수 있다!"
   ]
  },
  {
   "cell_type": "markdown",
   "metadata": {},
   "source": [
    "그런데 add와 sub 두 함수를 다 쓰고 싶다면?"
   ]
  },
  {
   "cell_type": "code",
   "execution_count": 3,
   "metadata": {},
   "outputs": [
    {
     "data": {
      "text/plain": [
       "7"
      ]
     },
     "execution_count": 3,
     "metadata": {},
     "output_type": "execute_result"
    }
   ],
   "source": [
    "from mod1 import add,sub\n",
    "add(2,5)"
   ]
  },
  {
   "cell_type": "code",
   "execution_count": 4,
   "metadata": {},
   "outputs": [
    {
     "data": {
      "text/plain": [
       "4"
      ]
     },
     "execution_count": 4,
     "metadata": {},
     "output_type": "execute_result"
    }
   ],
   "source": [
    "sub(6,2)"
   ]
  },
  {
   "cell_type": "code",
   "execution_count": 5,
   "metadata": {},
   "outputs": [
    {
     "data": {
      "text/plain": [
       "10"
      ]
     },
     "execution_count": 5,
     "metadata": {},
     "output_type": "execute_result"
    }
   ],
   "source": [
    "from mod1 import *\n",
    "add(3,7)"
   ]
  },
  {
   "cell_type": "code",
   "execution_count": 6,
   "metadata": {},
   "outputs": [
    {
     "data": {
      "text/plain": [
       "1"
      ]
     },
     "execution_count": 6,
     "metadata": {},
     "output_type": "execute_result"
    }
   ],
   "source": [
    "sub(9,8)"
   ]
  },
  {
   "cell_type": "markdown",
   "metadata": {},
   "source": [
    "두가지 방법이 있다! 하나는 위의 방법처럼 from 모듈 이름 import 함수1, 함수2 처럼 콤마로 구분하여 함수를 불러온다!"
   ]
  },
  {
   "cell_type": "markdown",
   "metadata": {},
   "source": [
    "나머지 하나는 * 문자를 쓰는 방법! * 문자는 모든 것이라는 뜻! import * 는 해당 모듈의 모든 함수를 불러오겠다는 뜻이다."
   ]
  },
  {
   "cell_type": "markdown",
   "metadata": {},
   "source": [
    "## if __name__ == \"__main__\"?"
   ]
  },
  {
   "cell_type": "code",
   "execution_count": null,
   "metadata": {},
   "outputs": [],
   "source": [
    "def add(a,b):\n",
    "    return a+b\n",
    "def sub(a,b):\n",
    "    return a-b\n",
    "\n",
    "print(add(1,2))\n",
    "print(sub(2,1))"
   ]
  },
  {
   "cell_type": "markdown",
   "metadata": {},
   "source": [
    "해당 모듈을 생성해 프롬프트에서 실행하면?"
   ]
  },
  {
   "cell_type": "code",
   "execution_count": null,
   "metadata": {},
   "outputs": [],
   "source": [
    "import mod3\n",
    "3\n",
    "1"
   ]
  },
  {
   "cell_type": "markdown",
   "metadata": {},
   "source": [
    "모듈의 함수만 사용하려 한다 해도 위처럼 mod3.py가 실행되어 결괏값이 나올 것이다. "
   ]
  },
  {
   "cell_type": "markdown",
   "metadata": {},
   "source": [
    "어떻게 해야 할까?"
   ]
  },
  {
   "cell_type": "code",
   "execution_count": null,
   "metadata": {},
   "outputs": [],
   "source": [
    "def add(a,b):\n",
    "    return a+b\n",
    "def sub(a,b):\n",
    "    return a-b\n",
    "\n",
    "if __name__==\"__main__\":\n",
    "    print(add(1,2))\n",
    "    print(sub(2,1))\n"
   ]
  },
  {
   "cell_type": "markdown",
   "metadata": {},
   "source": [
    "프롬프트에서 직접 실행하면 if문이 참이 되어 이하 print문장이 수행된다. 하지만 대화형 인터프리터 등에서 모듈을 불러서 사용할 때에는 if문이 거짓이 되어 수행되지 않는다!"
   ]
  },
  {
   "cell_type": "markdown",
   "metadata": {},
   "source": [
    "__name__ 변수는 파이썬 내부에서 사용되는 변수 이름이다. 프롬프트에서처럼 직접 실행하는 경우 모듈의 __name__변수에는 __main__값이 저장된다. 하지만 인터프리터나 다른 모듈,셸에서 import하면 __name__변수에는 모듈 이름 값이 저장된다."
   ]
  },
  {
   "cell_type": "markdown",
   "metadata": {},
   "source": [
    "## 클래스나 변수를 품은 모듈"
   ]
  },
  {
   "cell_type": "code",
   "execution_count": null,
   "metadata": {},
   "outputs": [],
   "source": [
    "PI = 3.141592\n",
    "\n",
    "class Math: \n",
    "    def solv(self, r): \n",
    "        return PI * (r ** 2) \n",
    "\n",
    "def add(a, b): \n",
    "    return a+b "
   ]
  },
  {
   "cell_type": "markdown",
   "metadata": {},
   "source": [
    "원 넓이 계산하는 클래스와 값을 더하는 함수 그리고 변수(PI)를 모두 가지고 있다."
   ]
  },
  {
   "cell_type": "code",
   "execution_count": null,
   "metadata": {},
   "outputs": [],
   "source": [
    "import mod4\n",
    "print(mod4.PI)\n",
    "\n",
    "3.141592"
   ]
  },
  {
   "cell_type": "code",
   "execution_count": null,
   "metadata": {},
   "outputs": [],
   "source": [
    "a=mod4.Math()\n",
    "print(a.solv(2))\n",
    "\n",
    "12.566368"
   ]
  },
  {
   "cell_type": "markdown",
   "metadata": {},
   "source": [
    "모듈 안의 클래스를 이렇게 사용할 수 있다! 사용하려면 클래스 앞에 모듈을 먼저 입력해야 한다. mod4.Math()"
   ]
  },
  {
   "cell_type": "code",
   "execution_count": null,
   "metadata": {},
   "outputs": [],
   "source": [
    "print(mod4.add(mod4.PI,4.4))\n",
    "\n",
    "7.541592"
   ]
  },
  {
   "cell_type": "markdown",
   "metadata": {},
   "source": [
    "모듈의 add 함수도 사용 가능하다."
   ]
  },
  {
   "cell_type": "markdown",
   "metadata": {},
   "source": [
    "## 다른 파일에서 모듈을 가져오려면?"
   ]
  },
  {
   "cell_type": "code",
   "execution_count": null,
   "metadata": {},
   "outputs": [],
   "source": [
    "C:\\Users>cd C:\\python\n",
    "C:\\python>mkdir mymod\n",
    "C:\\python>move mod2.py mymod\n",
    "        1개 파일을 이동했습니다."
   ]
  },
  {
   "cell_type": "code",
   "execution_count": null,
   "metadata": {},
   "outputs": [],
   "source": [
    "import sys\n",
    "sys.path.append(\"c:/python/mymod\")\n",
    "sys.path\n",
    "\n",
    "['', 'C:\\\\Windows\\\\SYSTEM32\\\\python37.zip', 'c:\\\\Python37\\\\DLLs', \n",
    "'c:\\\\Python37\\\\lib', 'c:\\\\Python37', 'c:\\\\Python37\\\\lib\\\\site-packages', \n",
    "'C:/doit/mymod']"
   ]
  },
  {
   "cell_type": "markdown",
   "metadata": {},
   "source": [
    "가장 마지막 요소에 mymod 디렉터리가 추가되었다! "
   ]
  },
  {
   "cell_type": "code",
   "execution_count": null,
   "metadata": {},
   "outputs": [],
   "source": [
    "C:\\python>set PYTHONPATH=C:\\python\\mymod"
   ]
  },
  {
   "cell_type": "markdown",
   "metadata": {},
   "source": [
    "set 명령어로 pythonpath 환경 변수에 디렉터리를 설정해 이동 없이 불러올 수 있다!"
   ]
  },
  {
   "cell_type": "markdown",
   "metadata": {},
   "source": [
    "# 패키지"
   ]
  },
  {
   "cell_type": "markdown",
   "metadata": {},
   "source": [
    "패키지는 .를 사용하여 모듈을 계층적으로 관리해준다. 모듈의 이름이 A.B일 때 A는 패키지의 이름이 되고 B는 A패키지의 B모듈이 된다. 디렉터리와 모듈로 이루어진다!"
   ]
  },
  {
   "cell_type": "code",
   "execution_count": null,
   "metadata": {},
   "outputs": [],
   "source": [
    "game/\n",
    "    __init__.py\n",
    "    sound/\n",
    "        __init__.py\n",
    "        echo.py\n",
    "        wav.py\n",
    "    graphic/\n",
    "        __init__.py\n",
    "        screen.py\n",
    "        render.py\n",
    "    play/\n",
    "        __init__.py\n",
    "        run.py\n",
    "        test.py"
   ]
  },
  {
   "cell_type": "markdown",
   "metadata": {},
   "source": [
    "game,sound,graphic,play는 각 디렉터리의 이름이고 .py인 파일은 모듈이다. game 디렉터리는 패키지의 루트 디렉터리이고 sound,graphic,play는 서브 디렉터리이다."
   ]
  },
  {
   "cell_type": "markdown",
   "metadata": {},
   "source": [
    "간단한 프로그램이 아니라면 패키지 구조로 만드는 것이 편리하다! 패키지 구조로 모듈을 만들면 다른 모듈과 이름이 겹치더라도 괜찮다!"
   ]
  },
  {
   "cell_type": "markdown",
   "metadata": {},
   "source": [
    "## 패키지 만들기"
   ]
  },
  {
   "cell_type": "markdown",
   "metadata": {},
   "source": [
    "__init__.py echo.py render.py 파일을 만들었다."
   ]
  },
  {
   "cell_type": "markdown",
   "metadata": {},
   "source": [
    "c:\\users\\.....\\python/game 디렉터리를 만들고 산하에 sound와 graphic까지 생성!"
   ]
  },
  {
   "cell_type": "code",
   "execution_count": null,
   "metadata": {},
   "outputs": [],
   "source": [
    "def echo_test():\n",
    "    print(\"echo\")"
   ]
  },
  {
   "cell_type": "code",
   "execution_count": null,
   "metadata": {},
   "outputs": [],
   "source": [
    "def render_test():\n",
    "    print(\"render\")"
   ]
  },
  {
   "cell_type": "markdown",
   "metadata": {},
   "source": [
    "프롬프트에서 set 명령어에 pythonpath 환경 변수를 입력하고 디렉터리를 추가한다."
   ]
  },
  {
   "cell_type": "markdown",
   "metadata": {},
   "source": [
    "## 패키지 속의 함수를 실행해보자"
   ]
  },
  {
   "cell_type": "code",
   "execution_count": null,
   "metadata": {},
   "outputs": [],
   "source": [
    "import game.sound.echo\n",
    "game.sound.echo.echo_test()\n",
    "\n",
    "echo"
   ]
  },
  {
   "cell_type": "code",
   "execution_count": null,
   "metadata": {},
   "outputs": [],
   "source": [
    "from game.sound import echo\n",
    "echo.echo_test()\n",
    "\n",
    "echo"
   ]
  },
  {
   "cell_type": "code",
   "execution_count": null,
   "metadata": {},
   "outputs": [],
   "source": [
    "from game.sound.echo import echo_test\n",
    "echo_test()\n",
    "\n",
    "echo"
   ]
  },
  {
   "cell_type": "markdown",
   "metadata": {},
   "source": [
    "위처럼 3가지 방법으로 실행할 수 있다! 모듈을 import하거나, 모듈이 있는 디렉터리까지 from...import하거나 모듈의 함수를 직접 import해서 실행!"
   ]
  },
  {
   "cell_type": "code",
   "execution_count": null,
   "metadata": {},
   "outputs": [],
   "source": [
    "import game\n",
    "game.sound.echo.echo_test()\n",
    "\n",
    "Traceback (most recent call last):\n",
    "    File \"<stdin>\", line 1, in <module>\n",
    "AttributeError: 'module' object has no attribute 'sound'"
   ]
  },
  {
   "cell_type": "markdown",
   "metadata": {},
   "source": [
    "import game을 수행하면 game 디렉터리의 모듈,__init__.py에 정의된 것만 참조 가능!"
   ]
  },
  {
   "cell_type": "code",
   "execution_count": null,
   "metadata": {},
   "outputs": [],
   "source": [
    "import game.sound.echo.echo_test\n",
    "\n",
    "Traceback (most recent call last):\n",
    "    File \"<stdin>\", line 1, in <module>\n",
    "ImportError: No module named echo_test"
   ]
  },
  {
   "cell_type": "markdown",
   "metadata": {},
   "source": [
    "(.)를 사용해서 import a.b.c처럼 import할 때 마지막인 c는 반드시 모듈/패키지여야 한다."
   ]
  },
  {
   "cell_type": "markdown",
   "metadata": {},
   "source": [
    "### __init__.py는 그래서 어디에 쓰인다는거야?"
   ]
  },
  {
   "cell_type": "markdown",
   "metadata": {},
   "source": [
    "__init__.py 파일은 해당 디렉터리가 패키지의 일부임을 알리는 역할을 함! 패키지에 포함된 디렉터리에 __init__.py 파일이 없다면 패키지로 인식되지 않을 것."
   ]
  },
  {
   "cell_type": "markdown",
   "metadata": {},
   "source": [
    "3.3버전부터는 없어도 패키지로 인식하지만 생성해주는 것이 안전!"
   ]
  },
  {
   "cell_type": "code",
   "execution_count": null,
   "metadata": {},
   "outputs": [],
   "source": [
    "from game.sound import *\n",
    "echo.echo_test()\n",
    "\n",
    "Traceback (most recent call last):\n",
    "    File \"<stdin>\", line 1, in <module>\n",
    "NameError: name 'echo' is not defined"
   ]
  },
  {
   "cell_type": "markdown",
   "metadata": {},
   "source": [
    "전부(* )를 import했기에 echo 모듈도 사용할 수 있어야하는데 정의되지 않았다는 오류가 생겼다! 이처럼 * 를 사용하여 import할 때는 해당 디렉터리의 __init__.py 파일에 __all__ 변수를 설정하고 import할 모듈을 정의해야 한다."
   ]
  },
  {
   "cell_type": "code",
   "execution_count": null,
   "metadata": {},
   "outputs": [],
   "source": [
    "c:\\users\\.....\\game\\sound\\__init__.py\n",
    "__all__ = ['echo']"
   ]
  },
  {
   "cell_type": "markdown",
   "metadata": {},
   "source": [
    "위의 경우에서 __all__은 디렉터리에서 * 기호를 사용해 import하면 정의된 echo 모듈만 import된다는 말이다!"
   ]
  },
  {
   "cell_type": "markdown",
   "metadata": {},
   "source": [
    "from game.sound.echo.echo_test import * 는 __all__에 관계없이 import된다. from a.b.c import * 에서 from의 마지막 항목인 c가 모듈일 때만 __all__에 관계없이 import된다! 위와 구별하자."
   ]
  },
  {
   "cell_type": "markdown",
   "metadata": {},
   "source": [
    "## relative 패키지"
   ]
  },
  {
   "cell_type": "markdown",
   "metadata": {},
   "source": [
    "graphic 디렉터리의 render.py모듈이 sound 디렉터리의 echo.py 모듈을 사용하게 하려면?"
   ]
  },
  {
   "cell_type": "code",
   "execution_count": null,
   "metadata": {},
   "outputs": [],
   "source": [
    "from game.sound.echo import echo_test\n",
    "def render_test():\n",
    "    print (\"render\")\n",
    "    echo_test()"
   ]
  },
  {
   "cell_type": "markdown",
   "metadata": {},
   "source": [
    "render.py에 from game.sound.echo import echo_test문을 넣어 사용할 수 있게 수정했다."
   ]
  },
  {
   "cell_type": "code",
   "execution_count": null,
   "metadata": {},
   "outputs": [],
   "source": [
    "from game.graphic.render import render_test\n",
    "render_test()\n",
    "\n",
    "render\n",
    "echo"
   ]
  },
  {
   "cell_type": "markdown",
   "metadata": {},
   "source": [
    "위와 같이 전체 경로를 이용해 import할 수도 있지만 다음과 같이도 가능!"
   ]
  },
  {
   "cell_type": "code",
   "execution_count": null,
   "metadata": {},
   "outputs": [],
   "source": [
    "from ..sound.echo import echo_test\n",
    "\n",
    "def render_test():\n",
    "    print(\"render\")\n",
    "    echo_test()"
   ]
  },
  {
   "cell_type": "markdown",
   "metadata": {},
   "source": [
    "from game.sound.echo가 from ..sound.echo로 변했다! .. 은 부모 디렉터리를 의미한다."
   ]
  },
  {
   "cell_type": "markdown",
   "metadata": {},
   "source": [
    "graphic과 sound는 같은 깊이에 있기에 부모 디렉터리(..)로 위처럼 import가 가능하다."
   ]
  },
  {
   "cell_type": "markdown",
   "metadata": {},
   "source": [
    ".. 부모 디렉터리 . 현재 디렉터리"
   ]
  },
  {
   "cell_type": "markdown",
   "metadata": {},
   "source": [
    "..같은 relative 접근자는 모듈 안에서만 사용해야 한다!"
   ]
  },
  {
   "cell_type": "markdown",
   "metadata": {},
   "source": [
    "## 정리해보자"
   ]
  },
  {
   "cell_type": "markdown",
   "metadata": {},
   "source": [
    "모듈? .py로 만든 파일은 전부 모듈이다!"
   ]
  },
  {
   "cell_type": "markdown",
   "metadata": {},
   "source": [
    "import 모듈 이름 으로 불러온다! 모듈 내 함수 이용시에는 모듈 이름.함수 이름"
   ]
  },
  {
   "cell_type": "markdown",
   "metadata": {},
   "source": [
    "import는 현재 디렉터리나 파이썬 라이브러리가 저장된 디렉터리에 있는 모듈만 불러온다!"
   ]
  },
  {
   "cell_type": "markdown",
   "metadata": {},
   "source": [
    "함수를 2개 이상 쓰려면... from 모듈 import 함수1,함수2.. 또는 from 모듈 import *"
   ]
  },
  {
   "cell_type": "markdown",
   "metadata": {},
   "source": [
    "if __name__ == \"__main__\" -> 프롬프트에서 직접 실행 시 참이 되어 if문 이하가 수행됨. 인터프티터나 다른 파일에서 모듈을 불러올 시 거짓이 되어 수행되지 않음."
   ]
  },
  {
   "cell_type": "markdown",
   "metadata": {},
   "source": [
    "모듈 안의 클래스를 사용하려면 -> 모듈 이름.클래스 이름"
   ]
  },
  {
   "cell_type": "markdown",
   "metadata": {},
   "source": [
    "모듈을 불러오는 다른 방법... sys.path.append('디렉터리') / pythonpath=디렉터리"
   ]
  },
  {
   "cell_type": "markdown",
   "metadata": {},
   "source": [
    "패키지는 .를 사용하여 모듈을 계층적으로 관리한다. a.b a=패키지 b=a패키지의 b모듈"
   ]
  },
  {
   "cell_type": "markdown",
   "metadata": {},
   "source": [
    "패키지 안에서 함수 사용하려면.. 모듈을 import하거나, 모듈이 있는 디렉터리까지를 from .. import하거나, 모듈의 함수를 직접 import하거나!(예시는 위 참조)"
   ]
  },
  {
   "cell_type": "markdown",
   "metadata": {},
   "source": [
    "하지만 import 패키지 이름 / import 패키지.모듈.함수명 이렇게 쓰는것은 불가능!"
   ]
  },
  {
   "cell_type": "markdown",
   "metadata": {},
   "source": [
    "import a.b.c에서 c는 반드시 모듈/패키지여야 한다!"
   ]
  },
  {
   "cell_type": "markdown",
   "metadata": {},
   "source": [
    " __init__.py? -> 해당 디렉터리가 패키지의 일부임을 알리는 역할! 없으면 패키지로 인식하지 않음!"
   ]
  },
  {
   "cell_type": "markdown",
   "metadata": {},
   "source": [
    "특정 디렉터리의 모듈을 * 로 import하려면 해당 디렉터리의 __init__.py에 __all__ 변수를 설정하고 모듈을 정의해주어야 한다!"
   ]
  },
  {
   "cell_type": "markdown",
   "metadata": {},
   "source": [
    "from 패키지.디렉터리.모듈 import 함수처럼 전체 경로로 import할 수도 있지만 from .디렉터리.모듈처럼 relative하게 할 수도 있다! "
   ]
  },
  {
   "cell_type": "markdown",
   "metadata": {},
   "source": []
  }
 ],
 "metadata": {
  "kernelspec": {
   "display_name": "Python 3",
   "language": "python",
   "name": "python3"
  },
  "language_info": {
   "codemirror_mode": {
    "name": "ipython",
    "version": 3
   },
   "file_extension": ".py",
   "mimetype": "text/x-python",
   "name": "python",
   "nbconvert_exporter": "python",
   "pygments_lexer": "ipython3",
   "version": "3.7.6"
  }
 },
 "nbformat": 4,
 "nbformat_minor": 4
}
