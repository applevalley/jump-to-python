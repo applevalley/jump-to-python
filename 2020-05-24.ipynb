{
 "cells": [
  {
   "cell_type": "markdown",
   "metadata": {},
   "source": [
    "## 탭을 4개의 공백으로 ~~"
   ]
  },
  {
   "cell_type": "markdown",
   "metadata": {},
   "source": [
    "문서 파일을 읽고, 그 안에 있는 탭을 공백으로 바꾸어주는 스크립트를 만들자!"
   ]
  },
  {
   "cell_type": "markdown",
   "metadata": {},
   "source": [
    "### 생각해볼 것은..."
   ]
  },
  {
   "cell_type": "markdown",
   "metadata": {},
   "source": [
    "문서 파일을 읽고, 문자열을 변경하는 기능이 필요하고, 탭을 포함한 파일을 입력해야 하고, 탭이 공백으로 바뀐 파일을 출력해야 한다."
   ]
  },
  {
   "cell_type": "code",
   "execution_count": 1,
   "metadata": {},
   "outputs": [
    {
     "name": "stdout",
     "output_type": "stream",
     "text": [
      "-f\n",
      "C:\\Users\\jungho\\AppData\\Roaming\\jupyter\\runtime\\kernel-376f2083-d522-4c2d-8745-6d95de8e2efb.json\n"
     ]
    }
   ],
   "source": [
    "# c:\\users\\....\\tab4.py\n",
    "import sys\n",
    "\n",
    "src = sys.argv[1]\n",
    "dst = sys.argv[2]\n",
    "\n",
    "print(src)\n",
    "print(dst)"
   ]
  },
  {
   "cell_type": "code",
   "execution_count": 4,
   "metadata": {},
   "outputs": [
    {
     "ename": "SyntaxError",
     "evalue": "unexpected character after line continuation character (<ipython-input-4-f370ffd1787a>, line 2)",
     "output_type": "error",
     "traceback": [
      "\u001b[1;36m  File \u001b[1;32m\"<ipython-input-4-f370ffd1787a>\"\u001b[1;36m, line \u001b[1;32m2\u001b[0m\n\u001b[1;33m    c:\\users\\jungho\\apple\\tab4.py a.txt b.txt\u001b[0m\n\u001b[1;37m                                             ^\u001b[0m\n\u001b[1;31mSyntaxError\u001b[0m\u001b[1;31m:\u001b[0m unexpected character after line continuation character\n"
     ]
    }
   ],
   "source": [
    "# cmd에서\n",
    "c:\\users\\jungho\\apple tab4.py a.txt b.txt\n",
    "# 결과는....\n",
    "a.txt\n",
    "b.txt"
   ]
  },
  {
   "cell_type": "markdown",
   "metadata": {},
   "source": [
    "a.txt에 탭을 포함하는 문자를 입력해둔다.."
   ]
  },
  {
   "cell_type": "markdown",
   "metadata": {},
   "source": [
    "이제 a.txt를 읽어 탭을 공백 4개로 변환할 수 있게 tab4.py를 변경!"
   ]
  },
  {
   "cell_type": "code",
   "execution_count": null,
   "metadata": {},
   "outputs": [],
   "source": [
    "#tab4.py\n",
    "import sys\n",
    "\n",
    "src = sys.argv[1]\n",
    "dst = sys.argv[2]\n",
    "\n",
    "f = open(src)\n",
    "tab_content = f.read()\n",
    "f.close()\n",
    "\n",
    "space_content = tab_content.replace(\"\\t\", \" \"*4)\n",
    "print(space_content)"
   ]
  },
  {
   "cell_type": "code",
   "execution_count": null,
   "metadata": {},
   "outputs": [],
   "source": [
    "# cmd에서...\n",
    "c:\\users\\jungho\\apple tab4.py a.txt b.txt\n",
    "apple    valley    bargain    sale\n",
    "cheap    price"
   ]
  },
  {
   "cell_type": "markdown",
   "metadata": {},
   "source": [
    "탭이 공백 4개로 변경됬겠지만 차이를 확인하기 어렵기에 확인하는 절차가 필요하다."
   ]
  },
  {
   "cell_type": "code",
   "execution_count": null,
   "metadata": {},
   "outputs": [],
   "source": [
    "#tab4.py\n",
    "import sys\n",
    "\n",
    "src = sys.argv[1]\n",
    "dst = sys.argv[2]\n",
    "\n",
    "f = open(src)\n",
    "tab_content = f.read()\n",
    "f.close()\n",
    "\n",
    "space_content = tab_content.replace(\"\\t\", \" \"*4)\n",
    "\n",
    "f = open(dst, 'w')\n",
    "f.write(space_content)\n",
    "f.close()   "
   ]
  },
  {
   "cell_type": "markdown",
   "metadata": {},
   "source": [
    "탭이 공백으로 바뀐 space_content를 출력 파일인 dst에 쓰도록 변경!"
   ]
  },
  {
   "cell_type": "code",
   "execution_count": null,
   "metadata": {},
   "outputs": [],
   "source": [
    "# cmd에서...\n",
    "c:\\users\\jungho\\apple tab4.py a.txt b.txt\n",
    "# b.txt\n",
    "apple    valley    bargain    sale\n",
    "cheap    price"
   ]
  },
  {
   "cell_type": "markdown",
   "metadata": {},
   "source": [
    "탭이 공백으로 제대로 바뀌었어!"
   ]
  },
  {
   "cell_type": "markdown",
   "metadata": {},
   "source": [
    "## 하위 디렉터리 검색"
   ]
  },
  {
   "cell_type": "markdown",
   "metadata": {},
   "source": [
    "특정 디렉터리부터 하위까지의 파일 중 .py만 출력하는 프로그램을 만드려면?"
   ]
  },
  {
   "cell_type": "code",
   "execution_count": 7,
   "metadata": {},
   "outputs": [
    {
     "ename": "SyntaxError",
     "evalue": "EOL while scanning string literal (<ipython-input-7-bbb7a6627290>, line 5)",
     "output_type": "error",
     "traceback": [
      "\u001b[1;36m  File \u001b[1;32m\"<ipython-input-7-bbb7a6627290>\"\u001b[1;36m, line \u001b[1;32m5\u001b[0m\n\u001b[1;33m    search(\"c:\\\")\u001b[0m\n\u001b[1;37m                 ^\u001b[0m\n\u001b[1;31mSyntaxError\u001b[0m\u001b[1;31m:\u001b[0m EOL while scanning string literal\n"
     ]
    }
   ],
   "source": [
    "#search.py\n",
    "def search(dirname):\n",
    "    print(dirname)\n",
    "\n",
    "search(\"c:\\\")"
   ]
  },
  {
   "cell_type": "markdown",
   "metadata": {},
   "source": [
    "함수를 만들고 시작하는 디렉터리를 입력하게 작성했다. 이제 파일을 검색하도록 수정!"
   ]
  },
  {
   "cell_type": "code",
   "execution_count": 8,
   "metadata": {},
   "outputs": [
    {
     "ename": "SyntaxError",
     "evalue": "EOL while scanning string literal (<ipython-input-8-7e59ed432f8f>, line 10)",
     "output_type": "error",
     "traceback": [
      "\u001b[1;36m  File \u001b[1;32m\"<ipython-input-8-7e59ed432f8f>\"\u001b[1;36m, line \u001b[1;32m10\u001b[0m\n\u001b[1;33m    search(\"c:\\\")\u001b[0m\n\u001b[1;37m                 ^\u001b[0m\n\u001b[1;31mSyntaxError\u001b[0m\u001b[1;31m:\u001b[0m EOL while scanning string literal\n"
     ]
    }
   ],
   "source": [
    "#search.py\n",
    "import os\n",
    "\n",
    "def search(dirname):\n",
    "    filenames = os.listdir(dirname)\n",
    "    for filename in filenames:\n",
    "        full_filename = os.path.join(dirname, filename)\n",
    "        print(full_filename)\n",
    "\n",
    "search(\"c:\\\")"
   ]
  },
  {
   "cell_type": "markdown",
   "metadata": {},
   "source": [
    "os.listdir로 해당 디렉터리 파일의 리스트를 구할 수 있는데 이 리스트는 파일의 이름만 포함되어서 경로를 포함한 이름을 구하려면 입력받응 dirname을 앞에 덧붙여야 한다! os 모듈에는 디렉터리와 파일 이름을 잇는 os.path.join 함수가 있기에 전체 경로를 쉽게 구한다."
   ]
  },
  {
   "cell_type": "markdown",
   "metadata": {},
   "source": [
    "이제 확장자가 py인 파일만을 출력하게 수정.."
   ]
  },
  {
   "cell_type": "code",
   "execution_count": null,
   "metadata": {},
   "outputs": [],
   "source": [
    "# search.py\n",
    "import os\n",
    "\n",
    "def search(dirname):\n",
    "    filenames = os.listdir(dirname)\n",
    "    for filename in filenames:\n",
    "        full_filename = os.path.join(dirname, filename)\n",
    "        ext = os.path.splitext(full_filename)[-1]\n",
    "        if ext == '.py':\n",
    "            print(full_filename)\n",
    "\n",
    "search(\"c:\\\")"
   ]
  },
  {
   "cell_type": "markdown",
   "metadata": {},
   "source": [
    "os 모듈의 os.path.splitext함수는 파일의 확장자만 추출한다. 파일 이름을 확장자 기준으로 나눈다. 그렇기에 os.path.splitext(full_filename)[-1]은 해당 파일의 확장자 이름이다. 디렉터리 안에서의 모든 파이썬 파일을 검색하려면 아직 수정이 남아있다."
   ]
  },
  {
   "cell_type": "code",
   "execution_count": null,
   "metadata": {},
   "outputs": [],
   "source": [
    "# search.py\n",
    "import os\n",
    "\n",
    "def search(dirname):\n",
    "    try:\n",
    "        filenames = os.listdir(dirname)\n",
    "        for filename in filenames:\n",
    "            full_filename = os.path.join(dirname, filename)\n",
    "            if os.path.isdir(full_filename):\n",
    "                search(full_filename)\n",
    "            else:\n",
    "                ext = os.path.splitext(full_filename)[-1]\n",
    "                if ext == '.py':\n",
    "                    print(full_filename)\n",
    "    except PermissionError:\n",
    "        pass\n",
    "\n",
    "search(\"c:\\\")"
   ]
  },
  {
   "cell_type": "markdown",
   "metadata": {},
   "source": [
    "try.. excepr 이하로 함수를 감싼 건 os.listdir를 수행할 때 권한 없는 디렉터리에 접근해도 오류나지 않고 그냥 수행하게 하기 위해서이다. full_filename이 디렉터리인지 파일인지 구별하려고 os.path.isdir를 썼고 디렉터리이면 경로를 입력받아 다시 search 함수를 호출한다. 이 경우 함수가 호출되어 디렉터리의 하위 파일을 다시 검색하기에 모든 파일을 검색하게 된다."
   ]
  },
  {
   "cell_type": "markdown",
   "metadata": {},
   "source": [
    "이런 걸 재귀 호출이라고 한다!"
   ]
  },
  {
   "cell_type": "markdown",
   "metadata": {},
   "source": [
    "디렉터리,파일 검색하는 보통 경우에는 위보다 os.walk를 이용하는 것이 더 간편하다!"
   ]
  },
  {
   "cell_type": "code",
   "execution_count": 10,
   "metadata": {},
   "outputs": [
    {
     "ename": "SyntaxError",
     "evalue": "EOL while scanning string literal (<ipython-input-10-b786ec236afd>, line 3)",
     "output_type": "error",
     "traceback": [
      "\u001b[1;36m  File \u001b[1;32m\"<ipython-input-10-b786ec236afd>\"\u001b[1;36m, line \u001b[1;32m3\u001b[0m\n\u001b[1;33m    for (path, dir, files) in os.walk(\"c:\\\"):\u001b[0m\n\u001b[1;37m                                             ^\u001b[0m\n\u001b[1;31mSyntaxError\u001b[0m\u001b[1;31m:\u001b[0m EOL while scanning string literal\n"
     ]
    }
   ],
   "source": [
    "import os\n",
    "\n",
    "for (path, dir, files) in os.walk(\"c:\\\"):\n",
    "    for filename in files:\n",
    "        ext = os.path.splitext(filename)[-1]\n",
    "            if ext == '.py':\n",
    "                print(\"%s\\%s\" % (path, filename))"
   ]
  },
  {
   "cell_type": "code",
   "execution_count": null,
   "metadata": {},
   "outputs": [],
   "source": []
  },
  {
   "cell_type": "code",
   "execution_count": null,
   "metadata": {},
   "outputs": [],
   "source": []
  },
  {
   "cell_type": "code",
   "execution_count": null,
   "metadata": {},
   "outputs": [],
   "source": []
  },
  {
   "cell_type": "code",
   "execution_count": null,
   "metadata": {},
   "outputs": [],
   "source": []
  },
  {
   "cell_type": "code",
   "execution_count": null,
   "metadata": {},
   "outputs": [],
   "source": []
  },
  {
   "cell_type": "code",
   "execution_count": null,
   "metadata": {},
   "outputs": [],
   "source": []
  },
  {
   "cell_type": "code",
   "execution_count": null,
   "metadata": {},
   "outputs": [],
   "source": []
  },
  {
   "cell_type": "code",
   "execution_count": null,
   "metadata": {},
   "outputs": [],
   "source": []
  },
  {
   "cell_type": "code",
   "execution_count": null,
   "metadata": {},
   "outputs": [],
   "source": []
  }
 ],
 "metadata": {
  "kernelspec": {
   "display_name": "Python 3",
   "language": "python",
   "name": "python3"
  },
  "language_info": {
   "codemirror_mode": {
    "name": "ipython",
    "version": 3
   },
   "file_extension": ".py",
   "mimetype": "text/x-python",
   "name": "python",
   "nbconvert_exporter": "python",
   "pygments_lexer": "ipython3",
   "version": "3.7.6"
  }
 },
 "nbformat": 4,
 "nbformat_minor": 4
}
