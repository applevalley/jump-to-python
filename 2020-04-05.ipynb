{
 "cells": [
  {
   "cell_type": "markdown",
   "metadata": {},
   "source": [
    "# 입력과 출력\n",
    "\n",
    "## 함수\n",
    "\n",
    "### 기본 구조"
   ]
  },
  {
   "cell_type": "code",
   "execution_count": null,
   "metadata": {},
   "outputs": [],
   "source": [
    "def 함수(매개변수):\n",
    "    실행할 문장1\n",
    "    실행할 문장2\n",
    "    ..."
   ]
  },
  {
   "cell_type": "code",
   "execution_count": 2,
   "metadata": {},
   "outputs": [
    {
     "name": "stdout",
     "output_type": "stream",
     "text": [
      "4\n"
     ]
    }
   ],
   "source": [
    "def add(a,b):\n",
    "    return a + b\n",
    "a = 1\n",
    "b = 3\n",
    "c = add(a,b)\n",
    "print(c)"
   ]
  },
  {
   "cell_type": "code",
   "execution_count": 3,
   "metadata": {},
   "outputs": [
    {
     "name": "stdout",
     "output_type": "stream",
     "text": [
      "[1, 2, 3, 4, 5, 6, 7, 8]\n"
     ]
    }
   ],
   "source": [
    "a = [1,2,3,4]\n",
    "b = [5,6,7,8]\n",
    "c = add(a,b)\n",
    "print(c)"
   ]
  },
  {
   "cell_type": "markdown",
   "metadata": {},
   "source": [
    "def = 함수를 만들 때 사용하는 예약어! 함수 이름 = 만드는 사람이 임의로 정할 수 있어!\n",
    "매개변수 = 함수 입력시 값을 전달받는 변수! 함수 정의된 후 제어문 등으로 실행할 문장을 적자.."
   ]
  },
  {
   "cell_type": "markdown",
   "metadata": {},
   "source": [
    "함수의 이름은 add이고 입력으로 2개의 변수를 값으로 받으며 결과값은 2개를 더한 값을 돌려주는 것(return)!"
   ]
  },
  {
   "cell_type": "markdown",
   "metadata": {},
   "source": [
    "### 매개변수 그리고 인수"
   ]
  },
  {
   "cell_type": "markdown",
   "metadata": {},
   "source": [
    "비슷한 말처럼 보이지만 다르다! 위의 def = add(a,b) 함수에서 a,b는 입력되는 값을 받는 매개변수이지만 print(add(3,4))의 경우 3,4는 함수를 호출하는 입력값이다."
   ]
  },
  {
   "cell_type": "markdown",
   "metadata": {},
   "source": [
    "### 함수의 형태\n",
    "\n",
    "입력값과 출력값의 유무에 따라 형태가 조금씩 다르다!"
   ]
  },
  {
   "cell_type": "code",
   "execution_count": 5,
   "metadata": {},
   "outputs": [
    {
     "name": "stdout",
     "output_type": "stream",
     "text": [
      "6.5\n"
     ]
    }
   ],
   "source": [
    "def add(a,b):\n",
    "    return a + b\n",
    "a = 4\n",
    "b = 2.5\n",
    "c = add(a,b)\n",
    "print(c)"
   ]
  },
  {
   "cell_type": "markdown",
   "metadata": {},
   "source": [
    "입력값/결과값 다 있다! -> 결과의 값을 받을 변수 = 함수(인수1, 인수2..)"
   ]
  },
  {
   "cell_type": "code",
   "execution_count": 6,
   "metadata": {},
   "outputs": [
    {
     "name": "stdout",
     "output_type": "stream",
     "text": [
      "초코파이 12개 2400원\n"
     ]
    }
   ],
   "source": [
    "def say():\n",
    "    return '초코파이 12개 2400원'\n",
    "a = say()\n",
    "print(a)"
   ]
  },
  {
   "cell_type": "markdown",
   "metadata": {},
   "source": [
    "say 함수 안에 입력값이 없는 ()상태였지만 결과값으로 문자열을 돌려주었다. "
   ]
  },
  {
   "cell_type": "markdown",
   "metadata": {},
   "source": [
    "입력값은 없고 결과값만 있어! -> 결과의 값을 받을 변수 = 함수 이름()"
   ]
  },
  {
   "cell_type": "code",
   "execution_count": 23,
   "metadata": {},
   "outputs": [
    {
     "name": "stdout",
     "output_type": "stream",
     "text": [
      "1, 9의 합은 10이군요! 정말 쉬워요!\n"
     ]
    }
   ],
   "source": [
    "def add(a,b):\n",
    "    print('%d, %d의 합은 %d이군요! 정말 쉬워요!' % (a,b,a+b) )\n",
    "add(1,9)"
   ]
  },
  {
   "cell_type": "code",
   "execution_count": 25,
   "metadata": {},
   "outputs": [
    {
     "name": "stdout",
     "output_type": "stream",
     "text": [
      "2, 8의 합은 10이군요! 정말 쉬워요!\n",
      "None\n"
     ]
    }
   ],
   "source": [
    "a= add(2,8)\n",
    "print(a)"
   ]
  },
  {
   "cell_type": "markdown",
   "metadata": {},
   "source": [
    "결과값이 없는 함수는 호출해도 돌려주는 값이 없다. print문은 결과값을 나타내는 것이 아니라 함수 이하의 수행할 문장에 해당하기에 결과값이 없다! 결과의 값은 return 명령어로만 돌려받을 수 있다!"
   ]
  },
  {
   "cell_type": "markdown",
   "metadata": {},
   "source": [
    "결과값이 없기 때문에 출력시 a 변수에 반환되는 값으로 None을 돌려준다."
   ]
  },
  {
   "cell_type": "markdown",
   "metadata": {},
   "source": [
    "결과값이 없어! -> 함수이름(인수1, 인수2...)"
   ]
  },
  {
   "cell_type": "code",
   "execution_count": 26,
   "metadata": {},
   "outputs": [
    {
     "name": "stdout",
     "output_type": "stream",
     "text": [
      "누구세요? 이걸 왜 보고 계세요?\n"
     ]
    }
   ],
   "source": [
    "def say():\n",
    "    print('누구세요? 이걸 왜 보고 계세요?')\n",
    "say()"
   ]
  },
  {
   "cell_type": "markdown",
   "metadata": {},
   "source": [
    "입력값이 없는 함수에서의 예시와 지금 함수가 다른 점은 무엇일까? 인수를 받는 매개변수가 없는 것은 동일하지만 결과값을 돌려주는 return문도 없다는 점이다. 다시 말해 입력값과 결과값이 전부 없는 것이다! 사용하려면 say()를 쓰는 수밖에 없다."
   ]
  },
  {
   "cell_type": "markdown",
   "metadata": {},
   "source": [
    "입력값도 결과값도 없어.. -> 함수이름()"
   ]
  },
  {
   "cell_type": "markdown",
   "metadata": {},
   "source": [
    "### 호출할 때 매개변수 지정하기!"
   ]
  },
  {
   "cell_type": "code",
   "execution_count": 28,
   "metadata": {},
   "outputs": [
    {
     "name": "stdout",
     "output_type": "stream",
     "text": [
      "9\n"
     ]
    }
   ],
   "source": [
    "def add(a,b):\n",
    "    return (a+b)\n",
    "result = add(a=4,b=5)\n",
    "print(result)"
   ]
  },
  {
   "cell_type": "markdown",
   "metadata": {},
   "source": [
    "매개변수를 지정해서 사용할 수 있다!"
   ]
  },
  {
   "cell_type": "markdown",
   "metadata": {},
   "source": [
    "### 입력값이 몇개인지 알 수가 없어!"
   ]
  },
  {
   "cell_type": "code",
   "execution_count": 30,
   "metadata": {},
   "outputs": [
    {
     "data": {
      "text/plain": [
       "55"
      ]
     },
     "execution_count": 30,
     "metadata": {},
     "output_type": "execute_result"
    }
   ],
   "source": [
    "def add_many(*number):\n",
    "    result = 0\n",
    "    for i in number:\n",
    "        result = result +i\n",
    "    return result\n",
    "add_many(1,2,3,4,5,6,7,8,9,10)"
   ]
  },
  {
   "cell_type": "code",
   "execution_count": 31,
   "metadata": {},
   "outputs": [
    {
     "name": "stdout",
     "output_type": "stream",
     "text": [
      "45\n"
     ]
    }
   ],
   "source": [
    "result = add_many(5,6,7,8,9,10)\n",
    "print(result)"
   ]
  },
  {
   "cell_type": "markdown",
   "metadata": {},
   "source": [
    "* number처럼 매개변수 앞에 * 를 붙여주면 입력값을 전부 모아서 튜플처럼 만들어준다!"
   ]
  },
  {
   "cell_type": "code",
   "execution_count": null,
   "metadata": {},
   "outputs": [],
   "source": [
    "def 함수 이름(*매개변수):\n",
    "    수행할 문장1\n",
    "    수행할 문장2\n",
    "    ...\n",
    "와 같이 구성된다."
   ]
  },
  {
   "cell_type": "code",
   "execution_count": 33,
   "metadata": {},
   "outputs": [
    {
     "name": "stdout",
     "output_type": "stream",
     "text": [
      "15\n"
     ]
    }
   ],
   "source": [
    "def add_dd(choice, *number):\n",
    "    if choice == 'add':\n",
    "        result = 0\n",
    "        for i in number:\n",
    "            result = result +i\n",
    "    elif choice == 'dd':\n",
    "        result = 1\n",
    "        for i in number:\n",
    "            result = result *i\n",
    "    return result\n",
    "\n",
    "result = add_dd('add',1,2,3,4,5)\n",
    "print(result)"
   ]
  },
  {
   "cell_type": "code",
   "execution_count": 34,
   "metadata": {},
   "outputs": [
    {
     "name": "stdout",
     "output_type": "stream",
     "text": [
      "120\n"
     ]
    }
   ],
   "source": [
    "result = add_dd('dd',1,2,3,4,5)\n",
    "print(result)"
   ]
  },
  {
   "cell_type": "markdown",
   "metadata": {},
   "source": [
    "매개변수 choice에 'add'를 입력한 경우 * number에 입력되는 값들을 전부 더하고 'dd'를 입력한 경우 전부 곱했다!"
   ]
  },
  {
   "cell_type": "code",
   "execution_count": 37,
   "metadata": {},
   "outputs": [
    {
     "name": "stdout",
     "output_type": "stream",
     "text": [
      "{'a': 1}\n"
     ]
    }
   ],
   "source": [
    "def print_kwargs(**kwargs):\n",
    "    print(kwargs)\n",
    "print_kwargs(a=1)"
   ]
  },
  {
   "cell_type": "code",
   "execution_count": 39,
   "metadata": {},
   "outputs": [
    {
     "name": "stdout",
     "output_type": "stream",
     "text": [
      "{'name': 'jun', 'age': 28, 'height': '350cm'}\n"
     ]
    }
   ],
   "source": [
    "print_kwargs(name='jun',age=28,height='350cm')"
   ]
  },
  {
   "cell_type": "markdown",
   "metadata": {},
   "source": [
    "매개변수 앞에 ** 을 붙이면 해당 변수는 모두 딕셔너리로 만들어져서 출력된다. "
   ]
  },
  {
   "cell_type": "markdown",
   "metadata": {},
   "source": [
    "### 함수의 결과값은 언제나 하나!"
   ]
  },
  {
   "cell_type": "code",
   "execution_count": 42,
   "metadata": {},
   "outputs": [
    {
     "name": "stdout",
     "output_type": "stream",
     "text": [
      "(7, 12)\n"
     ]
    }
   ],
   "source": [
    "def add_and_mul(a,b):\n",
    "    return a+b, a*b\n",
    "result=add_and_mul (3,4)\n",
    "print(result)"
   ]
  },
  {
   "cell_type": "markdown",
   "metadata": {},
   "source": [
    "2개의 인수를 받아 각각을 더한 값과 곱한 값을 돌려주는 함수이다."
   ]
  },
  {
   "cell_type": "markdown",
   "metadata": {},
   "source": [
    "출력될 값은 2개인데 결과를 받을 변수가 result 하나라 오류가 날 것도 같지만 함수의 결과값은 언제나 하나이기에 결과값 a+b와 a*b는 튜플 (a+b, a*b)로 나타나게 된다."
   ]
  },
  {
   "cell_type": "code",
   "execution_count": 44,
   "metadata": {},
   "outputs": [
    {
     "name": "stdout",
     "output_type": "stream",
     "text": [
      "7 12\n"
     ]
    }
   ],
   "source": [
    "result1,result2=add_and_mul(3,4)\n",
    "print(result1, result2)"
   ]
  },
  {
   "cell_type": "markdown",
   "metadata": {},
   "source": [
    "2개의 결과값처럼 받으려면 위와 같이 변수를 2개로 만들면 result1은 7, result2은 12가 된다."
   ]
  },
  {
   "cell_type": "markdown",
   "metadata": {},
   "source": [
    "그렇다면 return문을 2번 쓰면 어떨까?"
   ]
  },
  {
   "cell_type": "code",
   "execution_count": 45,
   "metadata": {},
   "outputs": [
    {
     "name": "stdout",
     "output_type": "stream",
     "text": [
      "7\n"
     ]
    }
   ],
   "source": [
    "def add_and_mul(a,b):\n",
    "    return a+b\n",
    "    return a*b\n",
    "result = add_and_mul(3,4)\n",
    "print(result)"
   ]
  },
  {
   "cell_type": "markdown",
   "metadata": {},
   "source": [
    "add_and_mul의 결과값은 하나이기에 두번째 return문의 a * b는 실행이 되지 않는 문제가 생긴다. 없는 것과 마찬가지가 된다."
   ]
  },
  {
   "cell_type": "code",
   "execution_count": 48,
   "metadata": {},
   "outputs": [
    {
     "name": "stdout",
     "output_type": "stream",
     "text": [
      "오늘 메뉴는 김치볶음밥입니다.\n"
     ]
    }
   ],
   "source": [
    "def say_menu(menu):\n",
    "    if menu == '삼선짬뽕':\n",
    "        return\n",
    "    print(\"오늘 메뉴는 %s입니다.\" % menu)\n",
    "    \n",
    "say_menu('김치볶음밥')"
   ]
  },
  {
   "cell_type": "code",
   "execution_count": 49,
   "metadata": {},
   "outputs": [],
   "source": [
    "say_menu('삼선짬뽕')"
   ]
  },
  {
   "cell_type": "markdown",
   "metadata": {},
   "source": [
    "return을 단독으로 써서 함수를 빠져나갈 수 있다. 입력값으로 삼선짬뽕이 들어오면 문자열을 출력하지 않고 함수를 빠져나간다."
   ]
  },
  {
   "cell_type": "markdown",
   "metadata": {},
   "source": [
    "문자열이 출력되는 것 != 결과값이 있는 것 결과값은 오직 return문을 통해서만 만들어진다!"
   ]
  },
  {
   "cell_type": "markdown",
   "metadata": {},
   "source": [
    "### 매개변수에 초기값을 미리 설정해보자"
   ]
  },
  {
   "cell_type": "code",
   "execution_count": 52,
   "metadata": {},
   "outputs": [
    {
     "name": "stdout",
     "output_type": "stream",
     "text": [
      "나의 이름은 남입니다.\n",
      "나이는 28살입니다.\n",
      "전공은 아랍어통번역입니다.\n",
      "평점은 3.420000점입니다.\n",
      "남자입니다.\n"
     ]
    }
   ],
   "source": [
    "def say_introduce_myself(name, old, major, gpa, man=True):\n",
    "    print('나의 이름은 %s입니다.' % name)\n",
    "    print('나이는 %d살입니다.' % old)\n",
    "    print('전공은 %s입니다.' % major)\n",
    "    print('평점은 %f점입니다.' % gpa)\n",
    "    if man:\n",
    "        print('남자입니다.')\n",
    "    else:\n",
    "        print('여자입니다.')\n",
    "        \n",
    "say_introduce_myself('남',28,'아랍어통번역',3.42,'man')"
   ]
  },
  {
   "cell_type": "markdown",
   "metadata": {},
   "source": [
    "위 함수의 매개변수는 5개이다. 그 중 man=True처럼 매개변수에 미리 값을 지정한 경우가 있다. 변수에 들어갈 값이 항상 가변하는 것이 아닐 경우 초기값을 설정해두면 편리하다!"
   ]
  },
  {
   "cell_type": "code",
   "execution_count": 54,
   "metadata": {},
   "outputs": [
    {
     "name": "stdout",
     "output_type": "stream",
     "text": [
      "나의 이름은 남입니다.\n",
      "나이는 28살입니다.\n",
      "전공은 아랍어통번역입니다.\n",
      "평점은 3.420000점입니다.\n",
      "남자입니다.\n"
     ]
    }
   ],
   "source": [
    "say_introduce_myself('남',28,'아랍어통번역',3.42,True)"
   ]
  },
  {
   "cell_type": "markdown",
   "metadata": {},
   "source": [
    "man=true 변수의 경우 입력하지 않거나, man이나 True를 입력하는 모든 경우에 '남자입니다.'가 출력된다."
   ]
  },
  {
   "cell_type": "code",
   "execution_count": 55,
   "metadata": {},
   "outputs": [
    {
     "name": "stdout",
     "output_type": "stream",
     "text": [
      "나의 이름은 김입니다.\n",
      "나이는 20살입니다.\n",
      "전공은 철학입니다.\n",
      "평점은 4.500000점입니다.\n",
      "여자입니다.\n"
     ]
    }
   ],
   "source": [
    "say_introduce_myself('김',20,'철학',4.5,False)"
   ]
  },
  {
   "cell_type": "code",
   "execution_count": 57,
   "metadata": {},
   "outputs": [
    {
     "ename": "SyntaxError",
     "evalue": "non-default argument follows default argument (<ipython-input-57-960806ff90f7>, line 1)",
     "output_type": "error",
     "traceback": [
      "\u001b[1;36m  File \u001b[1;32m\"<ipython-input-57-960806ff90f7>\"\u001b[1;36m, line \u001b[1;32m1\u001b[0m\n\u001b[1;33m    def say_introduce_myself(name, old, major, man=True, gpa):\u001b[0m\n\u001b[1;37m                            ^\u001b[0m\n\u001b[1;31mSyntaxError\u001b[0m\u001b[1;31m:\u001b[0m non-default argument follows default argument\n"
     ]
    }
   ],
   "source": [
    "def say_introduce_myself(name, old, major, man=True, gpa):\n",
    "    print('나의 이름은 %s입니다.' % name)\n",
    "    print('나이는 %d살입니다.' % old)\n",
    "    print('전공은 %s입니다.' % major)\n",
    "    print('평점은 %f점입니다.' % gpa)\n",
    "    if man:\n",
    "        print('남자입니다.')\n",
    "    else:\n",
    "        print('여자입니다.')\n",
    "        \n",
    "say_introduce_myself('남',28,'아랍어통번역',True, 3.42)"
   ]
  },
  {
   "cell_type": "markdown",
   "metadata": {},
   "source": [
    "초기값을 설정한 매개변수의 뒤에 초기값을 설정하지 않은 매개변수를 사용할 수 없다. 변수를 작성할 때 순서에 유의하자!"
   ]
  },
  {
   "cell_type": "markdown",
   "metadata": {},
   "source": [
    "### 함수 안에서 선언한 변수의 효력 범위?"
   ]
  },
  {
   "cell_type": "code",
   "execution_count": 59,
   "metadata": {},
   "outputs": [
    {
     "name": "stdout",
     "output_type": "stream",
     "text": [
      "9\n"
     ]
    }
   ],
   "source": [
    "a =9\n",
    "def vartest(a):\n",
    "    a = a+1\n",
    "vartest(a)\n",
    "print(a)"
   ]
  },
  {
   "cell_type": "markdown",
   "metadata": {},
   "source": [
    "a = 9이고 함수가 수행할 문장이 a+1이기에 10이 출력될것 같지만 9가 나왔다. 함수 안에서 사용된 매개변수 a는 함수 안에서만 사용되기에 함수 밖에서의 a와는 무관하기 때문이다. "
   ]
  },
  {
   "cell_type": "code",
   "execution_count": 62,
   "metadata": {},
   "outputs": [
    {
     "ename": "NameError",
     "evalue": "name 'x' is not defined",
     "output_type": "error",
     "traceback": [
      "\u001b[1;31m---------------------------------------------------------------------------\u001b[0m",
      "\u001b[1;31mNameError\u001b[0m                                 Traceback (most recent call last)",
      "\u001b[1;32m<ipython-input-62-46712d9c8947>\u001b[0m in \u001b[0;36m<module>\u001b[1;34m\u001b[0m\n\u001b[0;32m      2\u001b[0m     \u001b[0mx\u001b[0m \u001b[1;33m=\u001b[0m \u001b[0mx\u001b[0m\u001b[1;33m+\u001b[0m\u001b[1;36m1\u001b[0m\u001b[1;33m\u001b[0m\u001b[1;33m\u001b[0m\u001b[0m\n\u001b[0;32m      3\u001b[0m \u001b[0mvartest\u001b[0m\u001b[1;33m(\u001b[0m\u001b[1;36m3\u001b[0m\u001b[1;33m)\u001b[0m\u001b[1;33m\u001b[0m\u001b[1;33m\u001b[0m\u001b[0m\n\u001b[1;32m----> 4\u001b[1;33m \u001b[0mprint\u001b[0m\u001b[1;33m(\u001b[0m\u001b[0mx\u001b[0m\u001b[1;33m)\u001b[0m\u001b[1;33m\u001b[0m\u001b[1;33m\u001b[0m\u001b[0m\n\u001b[0m",
      "\u001b[1;31mNameError\u001b[0m: name 'x' is not defined"
     ]
    }
   ],
   "source": [
    "def vartest(x):\n",
    "    x = x+1\n",
    "vartest(3)\n",
    "print(x)"
   ]
  },
  {
   "cell_type": "markdown",
   "metadata": {},
   "source": [
    "위와 마찬가지로 함수 안에서의 변수 x를 3에 대입하여 4가 출력될 것 같지만 print(x)에서의 x란 변수는 함수 안의 x와 다르기에 오류가 발생한다.\n",
    "     헷갈리지 않게 조심하자!"
   ]
  },
  {
   "cell_type": "markdown",
   "metadata": {},
   "source": [
    "### 그렇다면.. 함수 안에서 밖의 변수를 변경하려면?"
   ]
  },
  {
   "cell_type": "code",
   "execution_count": 69,
   "metadata": {},
   "outputs": [
    {
     "name": "stdout",
     "output_type": "stream",
     "text": [
      "2\n"
     ]
    }
   ],
   "source": [
    "a = 1\n",
    "def vartest(a):\n",
    "    a = a +1\n",
    "    return a\n",
    "a = vartest(a)\n",
    "print(a)"
   ]
  },
  {
   "cell_type": "markdown",
   "metadata": {},
   "source": [
    "a = vartest(a)에서 함수 밖의 변수인 a가 vartest 함수의 결과값으로 바뀐다! a != 함수 안의 매개변수 a"
   ]
  },
  {
   "cell_type": "markdown",
   "metadata": {},
   "source": [
    "return의 경우에 (return 변수)가 아닌 return만 작성하는 경우 2가 아닌 none이 출력되니 조심!"
   ]
  },
  {
   "cell_type": "code",
   "execution_count": 74,
   "metadata": {},
   "outputs": [
    {
     "name": "stdout",
     "output_type": "stream",
     "text": [
      "2\n"
     ]
    }
   ],
   "source": [
    "a = 1\n",
    "def vartest():\n",
    "    global a\n",
    "    a = a+1\n",
    "vartest()\n",
    "print(a)"
   ]
  },
  {
   "cell_type": "markdown",
   "metadata": {},
   "source": [
    "global a 문은 함수 안에서 함수 밖의 a를 사용하겠다는 것을 의미한다. 하지만 가급적이면 global보다는 return 변수를 사용하자!"
   ]
  },
  {
   "cell_type": "markdown",
   "metadata": {},
   "source": [
    "### lambda?"
   ]
  },
  {
   "cell_type": "markdown",
   "metadata": {},
   "source": [
    "lambda는 함수를 생성할 때 사용하는 예약어로 def와 동일한데, 보통 함수를 간결하게 사용하려 할 때 이용한다!"
   ]
  },
  {
   "cell_type": "code",
   "execution_count": 75,
   "metadata": {},
   "outputs": [
    {
     "name": "stdout",
     "output_type": "stream",
     "text": [
      "3\n"
     ]
    }
   ],
   "source": [
    "add = lambda a, b: a+b\n",
    "result = add(1,2)\n",
    "print(result)"
   ]
  },
  {
   "cell_type": "code",
   "execution_count": 76,
   "metadata": {},
   "outputs": [
    {
     "name": "stdout",
     "output_type": "stream",
     "text": [
      "3\n"
     ]
    }
   ],
   "source": [
    "def add(a,b):\n",
    "    return a +b\n",
    "result=add(1,2)\n",
    "print(result)"
   ]
  },
  {
   "cell_type": "markdown",
   "metadata": {},
   "source": [
    "lambda와 def를 사용한 함수가 동일하다! lambda의 경우 return 명령어를 쓰지 않아도 결과값을 돌려준다."
   ]
  },
  {
   "cell_type": "markdown",
   "metadata": {},
   "source": [
    "lambda 매개변수1, 매개변수2... : 매개변수를 이용한 표현식"
   ]
  },
  {
   "cell_type": "markdown",
   "metadata": {},
   "source": [
    "### 정리해보자!"
   ]
  },
  {
   "cell_type": "markdown",
   "metadata": {},
   "source": [
    "함수? -> 반복되는 부분이 있을 때 그것을 묶어서 어떠한 입력값에 대한 결과값의 출력으로 표현! 프로그램의 흐름 파악에도 도움이 된다."
   ]
  },
  {
   "cell_type": "markdown",
   "metadata": {},
   "source": [
    "def와 lambda같은 예약어를 통해 임의의 함수를 정의하고 그 아래에 수행할 문장을 입력한다!"
   ]
  },
  {
   "cell_type": "markdown",
   "metadata": {},
   "source": [
    "def add(a,b) -> a,b: 매개변수 add(3,4) -> 3,4:인수"
   ]
  },
  {
   "cell_type": "markdown",
   "metadata": {},
   "source": [
    "일반적 함수 -> 결과값을 받을 변수 = 함수이름(인수1, 인수2....) "
   ]
  },
  {
   "cell_type": "markdown",
   "metadata": {},
   "source": [
    "입력값이 없어! -> 결과값을 받을 변수 = 함수이름()"
   ]
  },
  {
   "cell_type": "markdown",
   "metadata": {},
   "source": [
    "결과값이 없어! -> 함수이름(인수1, 인수2...)"
   ]
  },
  {
   "cell_type": "markdown",
   "metadata": {},
   "source": [
    "입력값도 결과값도 없다고! -> 함수이름()"
   ]
  },
  {
   "cell_type": "markdown",
   "metadata": {},
   "source": [
    "매개변수를 지정할 수도 있다! del add(a,b): ..... -> result=add(a=3,b=4) print(result)처럼!"
   ]
  },
  {
   "cell_type": "markdown",
   "metadata": {},
   "source": [
    "함수 뒤에 * 매개변수로 사용하면 입력값이 몇개이든 전부 튜플로 만들어서 하나의 결과값으로 출력!"
   ]
  },
  {
   "cell_type": "markdown",
   "metadata": {},
   "source": [
    "def add_mul(choice, *args): 처럼 사용해서 매개변수 choice에 입력되는 값에 따라 결과값을 다르게 출력할수도 있다."
   ]
  },
  {
   "cell_type": "markdown",
   "metadata": {},
   "source": [
    "** 매개변수의 경우 입력값들을 딕셔너리 형태로 처리!"
   ]
  },
  {
   "cell_type": "markdown",
   "metadata": {},
   "source": [
    "함수의 결과값은 언제나 하나! "
   ]
  },
  {
   "cell_type": "markdown",
   "metadata": {},
   "source": [
    "특정 상황에서 함수를 빠져나가고자 할 때는 return을 단독으로 이용한다."
   ]
  },
  {
   "cell_type": "markdown",
   "metadata": {},
   "source": [
    "매개변수에 초기값을 미리 설정하는 경우 매개변수의 순서를 잘 살피자!"
   ]
  },
  {
   "cell_type": "markdown",
   "metadata": {},
   "source": [
    "함수 밖의 변수와 함수 안의 변수는 다르다! 함수 안에서 선언한 변수는 함수 안에서만 그 효력을 가진다. "
   ]
  },
  {
   "cell_type": "markdown",
   "metadata": {},
   "source": [
    "함수 안에서 함수 밖의 변수를 이용하려면 return이나 global을 이용하기!"
   ]
  }
 ],
 "metadata": {
  "kernelspec": {
   "display_name": "Python 3",
   "language": "python",
   "name": "python3"
  },
  "language_info": {
   "codemirror_mode": {
    "name": "ipython",
    "version": 3
   },
   "file_extension": ".py",
   "mimetype": "text/x-python",
   "name": "python",
   "nbconvert_exporter": "python",
   "pygments_lexer": "ipython3",
   "version": "3.7.6"
  }
 },
 "nbformat": 4,
 "nbformat_minor": 4
}
