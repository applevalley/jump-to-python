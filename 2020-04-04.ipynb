{
 "cells": [
  {
   "cell_type": "markdown",
   "metadata": {},
   "source": [
    "# 제어문\n",
    "## if문"
   ]
  },
  {
   "cell_type": "code",
   "execution_count": 6,
   "metadata": {},
   "outputs": [
    {
     "name": "stdout",
     "output_type": "stream",
     "text": [
      "돈도 없으면 걷기나 하세요\n"
     ]
    }
   ],
   "source": [
    "money = False\n",
    "if money:\n",
    "    print(\"돈이 많으시면 시간 아까우니까 택시를 타세요\")\n",
    "else:\n",
    "        print(\"돈도 없으면 걷기나 하세요\")"
   ]
  },
  {
   "cell_type": "markdown",
   "metadata": {},
   "source": [
    "if문 -> 조건을 판단하여 해당 조건에 맞는 상황을 수행하는데 쓰임! 조건문 -> 참/거짓 판단\n",
    "if 조건문:\n",
    "    수행할 문장1\n",
    "    수행할 문장2\n",
    "    ...\n",
    "else:\n",
    "    수행할 문장A\n",
    "    수행할 문장B\n",
    "    ...\n",
    "    \n",
    "    \":\"를 뒤에 붙여줄 것!"
   ]
  },
  {
   "cell_type": "markdown",
   "metadata": {},
   "source": [
    "조건문을 테스트해서 참이면 if 다음 문장을 수행하고, 아니면 else 다음 문장을 수행한다.\n",
    "else는 if 없이 독립적으로 사용할 수 없다."
   ]
  },
  {
   "cell_type": "markdown",
   "metadata": {},
   "source": [
    "if 문: 다음의 모든 문장은 같은 너비로 들여쓰기! "
   ]
  },
  {
   "cell_type": "markdown",
   "metadata": {},
   "source": [
    "## 조건문\n",
    "\n",
    "### 비교연산자"
   ]
  },
  {
   "cell_type": "code",
   "execution_count": 7,
   "metadata": {},
   "outputs": [
    {
     "data": {
      "text/plain": [
       "False"
      ]
     },
     "execution_count": 7,
     "metadata": {},
     "output_type": "execute_result"
    }
   ],
   "source": [
    "x = 3\n",
    "y = 2\n",
    "x > y\n",
    "x < y\n",
    "x == y\n",
    "x != y\n",
    "x >= y\n",
    "x <= y"
   ]
  },
  {
   "cell_type": "markdown",
   "metadata": {},
   "source": [
    "x == y x는 y와 같다 //\n",
    "x != y x는 y와 같지 않다"
   ]
  },
  {
   "cell_type": "code",
   "execution_count": 12,
   "metadata": {},
   "outputs": [
    {
     "name": "stdout",
     "output_type": "stream",
     "text": [
      "걷기나 하세요!\n"
     ]
    }
   ],
   "source": [
    "money = 2000\n",
    "if money >= 3000:\n",
    "    print(\"택시를 타세요!\")\n",
    "else:\n",
    "    print(\"걷기나 하세요!\")"
   ]
  },
  {
   "cell_type": "code",
   "execution_count": 15,
   "metadata": {},
   "outputs": [
    {
     "name": "stdout",
     "output_type": "stream",
     "text": [
      "굶으세요!\n"
     ]
    }
   ],
   "source": [
    "money = 2000\n",
    "card = True\n",
    "if money >=3000 and card:\n",
    "    print(\"음식을 사세요!\")\n",
    "else:\n",
    "    print(\"굶으세요!\")"
   ]
  },
  {
   "cell_type": "code",
   "execution_count": 17,
   "metadata": {},
   "outputs": [
    {
     "name": "stdout",
     "output_type": "stream",
     "text": [
      "결제하세요\n"
     ]
    }
   ],
   "source": [
    "card = False\n",
    "if not card:\n",
    "    print(\"결제하세요\")\n",
    "else:\n",
    "    print(\"돌아가세요\")"
   ]
  },
  {
   "cell_type": "markdown",
   "metadata": {},
   "source": [
    "x and y -> 둘 다 참이어야 참 x or y -> 하나만 참이어도 참 not x -> x가 거짓이어야 참"
   ]
  },
  {
   "cell_type": "code",
   "execution_count": 18,
   "metadata": {},
   "outputs": [
    {
     "data": {
      "text/plain": [
       "False"
      ]
     },
     "execution_count": 18,
     "metadata": {},
     "output_type": "execute_result"
    }
   ],
   "source": [
    "'돼지' in ['돼지고기','소고기','닭고기']"
   ]
  },
  {
   "cell_type": "code",
   "execution_count": 19,
   "metadata": {},
   "outputs": [
    {
     "data": {
      "text/plain": [
       "True"
      ]
     },
     "execution_count": 19,
     "metadata": {},
     "output_type": "execute_result"
    }
   ],
   "source": [
    "'짬뽕' not in ['양장피','유산슬','자춘결']"
   ]
  },
  {
   "cell_type": "code",
   "execution_count": 20,
   "metadata": {},
   "outputs": [
    {
     "data": {
      "text/plain": [
       "True"
      ]
     },
     "execution_count": 20,
     "metadata": {},
     "output_type": "execute_result"
    }
   ],
   "source": [
    "'김' in ('김','이','박','최')"
   ]
  },
  {
   "cell_type": "code",
   "execution_count": 21,
   "metadata": {},
   "outputs": [
    {
     "data": {
      "text/plain": [
       "True"
      ]
     },
     "execution_count": 21,
     "metadata": {},
     "output_type": "execute_result"
    }
   ],
   "source": [
    "'한국' not in '대한민국'"
   ]
  },
  {
   "cell_type": "code",
   "execution_count": 22,
   "metadata": {},
   "outputs": [
    {
     "data": {
      "text/plain": [
       "False"
      ]
     },
     "execution_count": 22,
     "metadata": {},
     "output_type": "execute_result"
    }
   ],
   "source": [
    "'김' not in '김이박최'"
   ]
  },
  {
   "cell_type": "code",
   "execution_count": 27,
   "metadata": {},
   "outputs": [
    {
     "name": "stdout",
     "output_type": "stream",
     "text": [
      "식당에 가세요\n"
     ]
    }
   ],
   "source": [
    "pocket = ['money','card','spider','dragon']\n",
    "money = 3000\n",
    "if 'money' in pocket or money > 3000:\n",
    "    print(\"식당에 가세요\")\n",
    "else:\n",
    "    print(\"집에 가세요\")"
   ]
  },
  {
   "cell_type": "code",
   "execution_count": 28,
   "metadata": {},
   "outputs": [
    {
     "name": "stdout",
     "output_type": "stream",
     "text": [
      "초코파이를 사 드세요\n"
     ]
    }
   ],
   "source": [
    "if not money < 2000:\n",
    "    print(\"초코파이를 사 드세요\")\n",
    "else:\n",
    "    print(\"사지 마세요\")"
   ]
  },
  {
   "cell_type": "code",
   "execution_count": 31,
   "metadata": {},
   "outputs": [],
   "source": [
    "if 'dragon' in pocket:\n",
    "    pass\n",
    "else:\n",
    "    print(\"안녕\")"
   ]
  },
  {
   "cell_type": "markdown",
   "metadata": {},
   "source": [
    "if 조건문이 참이어서 다음 문장인 pass가 실행되면 아무 결과값도 출력하지 않는다."
   ]
  },
  {
   "cell_type": "markdown",
   "metadata": {},
   "source": [
    "### elif"
   ]
  },
  {
   "cell_type": "code",
   "execution_count": 37,
   "metadata": {},
   "outputs": [
    {
     "name": "stdout",
     "output_type": "stream",
     "text": [
      "고기를 꺼내세요\n"
     ]
    }
   ],
   "source": [
    "refrigerator = ['pork','beef','ramb','onion']\n",
    "if 'carrot' in refrigerator:\n",
    "    print(\"당근을 꺼내세요\")\n",
    "elif 'pumpkin' in refrigerator:\n",
    "    print(\"호박을 꺼내세요\")\n",
    "elif 'pork' in refrigerator:\n",
    "    print(\"고기를 꺼내세요\")"
   ]
  },
  {
   "cell_type": "code",
   "execution_count": 39,
   "metadata": {},
   "outputs": [
    {
     "name": "stdout",
     "output_type": "stream",
     "text": [
      "냉장고를 닫으세요\n"
     ]
    }
   ],
   "source": [
    "refrigerator = ['pork','beef','ramb','onion']\n",
    "if 'carrot' in refrigerator:\n",
    "    print(\"당근을 꺼내세요\")\n",
    "elif 'pumpkin' in refrigerator:\n",
    "    print(\"호박을 꺼내세요\")\n",
    "elif 'oyster' in refrigerator:\n",
    "    print(\"양파를 꺼내세요\")\n",
    "else:\n",
    "    print(\"냉장고를 닫으세요\")"
   ]
  },
  {
   "cell_type": "markdown",
   "metadata": {},
   "source": [
    "elif는 다중 조건 판단을 가능하게 한다. 이전 조건문이 거짓이여야 수행되며 개수 제한 없이 쓸 수 있다."
   ]
  },
  {
   "cell_type": "markdown",
   "metadata": {},
   "source": [
    "### 조건부 표현식"
   ]
  },
  {
   "cell_type": "code",
   "execution_count": 44,
   "metadata": {},
   "outputs": [
    {
     "name": "stdout",
     "output_type": "stream",
     "text": [
      "sliver\n"
     ]
    }
   ],
   "source": [
    "rating = 1000\n",
    "if rating >= 1000:\n",
    "    print ('sliver')\n",
    "else:\n",
    "    print ('bronze')"
   ]
  },
  {
   "cell_type": "code",
   "execution_count": 45,
   "metadata": {},
   "outputs": [
    {
     "name": "stdout",
     "output_type": "stream",
     "text": [
      "sliver\n"
     ]
    }
   ],
   "source": [
    "print('sliver') if rating >=1000 else 'bronze'"
   ]
  },
  {
   "cell_type": "markdown",
   "metadata": {},
   "source": [
    "[조건문이 참인 경우 / if / 조건문 / else / 조건문이 거짓인 경우] --> 가독성 편리! if/else 뒤에 :를 붙이지 않아도 된다"
   ]
  },
  {
   "cell_type": "markdown",
   "metadata": {},
   "source": [
    "## while문"
   ]
  },
  {
   "cell_type": "markdown",
   "metadata": {},
   "source": [
    "### 기본 구조"
   ]
  },
  {
   "cell_type": "code",
   "execution_count": 46,
   "metadata": {},
   "outputs": [
    {
     "name": "stdout",
     "output_type": "stream",
     "text": [
      "밥을 1번 먹었습니다.\n",
      "밥을 2번 먹었습니다.\n",
      "밥을 3번 먹었습니다.\n",
      "밥을 4번 먹었습니다.\n",
      "밥을 5번 먹었습니다.\n",
      "밥을 6번 먹었습니다.\n",
      "밥을 7번 먹었습니다.\n",
      "밥을 8번 먹었습니다.\n",
      "밥을 9번 먹었습니다.\n",
      "밥을 10번 먹었습니다.\n",
      "돼지가 되었습니다.\n"
     ]
    }
   ],
   "source": [
    "밥 = 0\n",
    "while 밥 < 10:\n",
    "    밥 = 밥 + 1\n",
    "    print('밥을 %s번 먹었습니다.' % 밥)\n",
    "if 밥 == 10:\n",
    "    print('돼지가 되었습니다.')"
   ]
  },
  {
   "cell_type": "markdown",
   "metadata": {},
   "source": [
    "while 조건문:\n",
    "    수행할 문장1\n",
    "    수행할 문장2\n",
    "    ..."
   ]
  },
  {
   "cell_type": "markdown",
   "metadata": {},
   "source": [
    "조건문이 참일 동안 while문 아래의 문장을 수행한다. 밥이 10이 되는 순간 조건문이 거짓이 되기에 while문을 빠져나간다."
   ]
  },
  {
   "cell_type": "code",
   "execution_count": 51,
   "metadata": {},
   "outputs": [
    {
     "ename": "SyntaxError",
     "evalue": "invalid syntax (<ipython-input-51-0174b0411024>, line 12)",
     "output_type": "error",
     "traceback": [
      "\u001b[1;36m  File \u001b[1;32m\"<ipython-input-51-0174b0411024>\"\u001b[1;36m, line \u001b[1;32m12\u001b[0m\n\u001b[1;33m    1. Add\u001b[0m\n\u001b[1;37m         ^\u001b[0m\n\u001b[1;31mSyntaxError\u001b[0m\u001b[1;31m:\u001b[0m invalid syntax\n"
     ]
    }
   ],
   "source": [
    "prompt = \"\"\"\n",
    "1. Add\n",
    "2. Del\n",
    "3. List\n",
    "4. Quit\n",
    "\n",
    "Enter number: \"\"\"\n",
    "number = 0\n",
    "while number != 4:\n",
    "    print (prompt)\n",
    "    number = int(input())\n",
    "    1. Add\n",
    "    2. Del\n",
    "    3. List\n",
    "    4. Quit\n",
    "    ...\n",
    "    Enter number:"
   ]
  },
  {
   "cell_type": "code",
   "execution_count": 1,
   "metadata": {},
   "outputs": [
    {
     "name": "stdout",
     "output_type": "stream",
     "text": [
      "돈을 받았으니 음료를 드릴게요.\n",
      "남은 pepsi의 양은 9개입니다.\n",
      "돈을 받았으니 음료를 드릴게요.\n",
      "남은 pepsi의 양은 8개입니다.\n",
      "돈을 받았으니 음료를 드릴게요.\n",
      "남은 pepsi의 양은 7개입니다.\n",
      "돈을 받았으니 음료를 드릴게요.\n",
      "남은 pepsi의 양은 6개입니다.\n",
      "돈을 받았으니 음료를 드릴게요.\n",
      "남은 pepsi의 양은 5개입니다.\n",
      "돈을 받았으니 음료를 드릴게요.\n",
      "남은 pepsi의 양은 4개입니다.\n",
      "돈을 받았으니 음료를 드릴게요.\n",
      "남은 pepsi의 양은 3개입니다.\n",
      "돈을 받았으니 음료를 드릴게요.\n",
      "남은 pepsi의 양은 2개입니다.\n",
      "돈을 받았으니 음료를 드릴게요.\n",
      "남은 pepsi의 양은 1개입니다.\n",
      "돈을 받았으니 음료를 드릴게요.\n",
      "남은 pepsi의 양은 0개입니다.\n",
      "음료가 다 떨어졌네요. 이제 안 팔거에요.\n"
     ]
    }
   ],
   "source": [
    "pepsi = 10\n",
    "money = 1000\n",
    "while money:\n",
    "    print(\"돈을 받았으니 음료를 드릴게요.\")\n",
    "    pepsi = pepsi -1\n",
    "    print(\"남은 pepsi의 양은 %d개입니다.\" % pepsi)\n",
    "    if pepsi == 0:\n",
    "        print(\"음료가 다 떨어졌네요. 이제 안 팔거에요.\")\n",
    "        break"
   ]
  },
  {
   "cell_type": "code",
   "execution_count": null,
   "metadata": {},
   "outputs": [],
   "source": []
  }
 ],
 "metadata": {
  "kernelspec": {
   "display_name": "Python 3",
   "language": "python",
   "name": "python3"
  },
  "language_info": {
   "codemirror_mode": {
    "name": "ipython",
    "version": 3
   },
   "file_extension": ".py",
   "mimetype": "text/x-python",
   "name": "python",
   "nbconvert_exporter": "python",
   "pygments_lexer": "ipython3",
   "version": "3.7.6"
  }
 },
 "nbformat": 4,
 "nbformat_minor": 4
}
