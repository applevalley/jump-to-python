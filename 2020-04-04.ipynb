{
 "cells": [
  {
   "cell_type": "markdown",
   "metadata": {},
   "source": [
    "# 제어문\n",
    "## if문"
   ]
  },
  {
   "cell_type": "code",
   "execution_count": 6,
   "metadata": {},
   "outputs": [
    {
     "name": "stdout",
     "output_type": "stream",
     "text": [
      "돈도 없으면 걷기나 하세요\n"
     ]
    }
   ],
   "source": [
    "money = False\n",
    "if money:\n",
    "    print(\"돈이 많으시면 시간 아까우니까 택시를 타세요\")\n",
    "else:\n",
    "        print(\"돈도 없으면 걷기나 하세요\")"
   ]
  },
  {
   "cell_type": "markdown",
   "metadata": {},
   "source": [
    "if문 -> 조건을 판단하여 해당 조건에 맞는 상황을 수행하는데 쓰임! 조건문 -> 참/거짓 판단\n",
    "if 조건문:\n",
    "    수행할 문장1\n",
    "    수행할 문장2\n",
    "    ...\n",
    "else:\n",
    "    수행할 문장A\n",
    "    수행할 문장B\n",
    "    ...\n",
    "    \n",
    "    \":\"를 뒤에 붙여줄 것!"
   ]
  },
  {
   "cell_type": "markdown",
   "metadata": {},
   "source": [
    "조건문을 테스트해서 참이면 if 다음 문장을 수행하고, 아니면 else 다음 문장을 수행한다.\n",
    "else는 if 없이 독립적으로 사용할 수 없다."
   ]
  },
  {
   "cell_type": "markdown",
   "metadata": {},
   "source": [
    "if 문: 다음의 모든 문장은 같은 너비로 들여쓰기! "
   ]
  },
  {
   "cell_type": "markdown",
   "metadata": {},
   "source": [
    "## 조건문\n",
    "\n",
    "### 비교연산자"
   ]
  },
  {
   "cell_type": "code",
   "execution_count": 7,
   "metadata": {},
   "outputs": [
    {
     "data": {
      "text/plain": [
       "False"
      ]
     },
     "execution_count": 7,
     "metadata": {},
     "output_type": "execute_result"
    }
   ],
   "source": [
    "x = 3\n",
    "y = 2\n",
    "x > y\n",
    "x < y\n",
    "x == y\n",
    "x != y\n",
    "x >= y\n",
    "x <= y"
   ]
  },
  {
   "cell_type": "markdown",
   "metadata": {},
   "source": [
    "x == y x는 y와 같다 //\n",
    "x != y x는 y와 같지 않다"
   ]
  },
  {
   "cell_type": "code",
   "execution_count": 12,
   "metadata": {},
   "outputs": [
    {
     "name": "stdout",
     "output_type": "stream",
     "text": [
      "걷기나 하세요!\n"
     ]
    }
   ],
   "source": [
    "money = 2000\n",
    "if money >= 3000:\n",
    "    print(\"택시를 타세요!\")\n",
    "else:\n",
    "    print(\"걷기나 하세요!\")"
   ]
  },
  {
   "cell_type": "code",
   "execution_count": 15,
   "metadata": {},
   "outputs": [
    {
     "name": "stdout",
     "output_type": "stream",
     "text": [
      "굶으세요!\n"
     ]
    }
   ],
   "source": [
    "money = 2000\n",
    "card = True\n",
    "if money >=3000 and card:\n",
    "    print(\"음식을 사세요!\")\n",
    "else:\n",
    "    print(\"굶으세요!\")"
   ]
  },
  {
   "cell_type": "code",
   "execution_count": 17,
   "metadata": {},
   "outputs": [
    {
     "name": "stdout",
     "output_type": "stream",
     "text": [
      "결제하세요\n"
     ]
    }
   ],
   "source": [
    "card = False\n",
    "if not card:\n",
    "    print(\"결제하세요\")\n",
    "else:\n",
    "    print(\"돌아가세요\")"
   ]
  },
  {
   "cell_type": "markdown",
   "metadata": {},
   "source": [
    "x and y -> 둘 다 참이어야 참 x or y -> 하나만 참이어도 참 not x -> x가 거짓이어야 참"
   ]
  },
  {
   "cell_type": "code",
   "execution_count": 18,
   "metadata": {},
   "outputs": [
    {
     "data": {
      "text/plain": [
       "False"
      ]
     },
     "execution_count": 18,
     "metadata": {},
     "output_type": "execute_result"
    }
   ],
   "source": [
    "'돼지' in ['돼지고기','소고기','닭고기']"
   ]
  },
  {
   "cell_type": "code",
   "execution_count": 19,
   "metadata": {},
   "outputs": [
    {
     "data": {
      "text/plain": [
       "True"
      ]
     },
     "execution_count": 19,
     "metadata": {},
     "output_type": "execute_result"
    }
   ],
   "source": [
    "'짬뽕' not in ['양장피','유산슬','자춘결']"
   ]
  },
  {
   "cell_type": "code",
   "execution_count": 20,
   "metadata": {},
   "outputs": [
    {
     "data": {
      "text/plain": [
       "True"
      ]
     },
     "execution_count": 20,
     "metadata": {},
     "output_type": "execute_result"
    }
   ],
   "source": [
    "'김' in ('김','이','박','최')"
   ]
  },
  {
   "cell_type": "code",
   "execution_count": 21,
   "metadata": {},
   "outputs": [
    {
     "data": {
      "text/plain": [
       "True"
      ]
     },
     "execution_count": 21,
     "metadata": {},
     "output_type": "execute_result"
    }
   ],
   "source": [
    "'한국' not in '대한민국'"
   ]
  },
  {
   "cell_type": "code",
   "execution_count": 22,
   "metadata": {},
   "outputs": [
    {
     "data": {
      "text/plain": [
       "False"
      ]
     },
     "execution_count": 22,
     "metadata": {},
     "output_type": "execute_result"
    }
   ],
   "source": [
    "'김' not in '김이박최'"
   ]
  },
  {
   "cell_type": "code",
   "execution_count": 27,
   "metadata": {},
   "outputs": [
    {
     "name": "stdout",
     "output_type": "stream",
     "text": [
      "식당에 가세요\n"
     ]
    }
   ],
   "source": [
    "pocket = ['money','card','spider','dragon']\n",
    "money = 3000\n",
    "if 'money' in pocket or money > 3000:\n",
    "    print(\"식당에 가세요\")\n",
    "else:\n",
    "    print(\"집에 가세요\")"
   ]
  },
  {
   "cell_type": "code",
   "execution_count": 28,
   "metadata": {},
   "outputs": [
    {
     "name": "stdout",
     "output_type": "stream",
     "text": [
      "초코파이를 사 드세요\n"
     ]
    }
   ],
   "source": [
    "if not money < 2000:\n",
    "    print(\"초코파이를 사 드세요\")\n",
    "else:\n",
    "    print(\"사지 마세요\")"
   ]
  },
  {
   "cell_type": "code",
   "execution_count": 31,
   "metadata": {},
   "outputs": [],
   "source": [
    "if 'dragon' in pocket:\n",
    "    pass\n",
    "else:\n",
    "    print(\"안녕\")"
   ]
  },
  {
   "cell_type": "markdown",
   "metadata": {},
   "source": [
    "if 조건문이 참이어서 다음 문장인 pass가 실행되면 아무 결과값도 출력하지 않는다."
   ]
  },
  {
   "cell_type": "markdown",
   "metadata": {},
   "source": [
    "### elif"
   ]
  },
  {
   "cell_type": "code",
   "execution_count": 37,
   "metadata": {},
   "outputs": [
    {
     "name": "stdout",
     "output_type": "stream",
     "text": [
      "고기를 꺼내세요\n"
     ]
    }
   ],
   "source": [
    "refrigerator = ['pork','beef','ramb','onion']\n",
    "if 'carrot' in refrigerator:\n",
    "    print(\"당근을 꺼내세요\")\n",
    "elif 'pumpkin' in refrigerator:\n",
    "    print(\"호박을 꺼내세요\")\n",
    "elif 'pork' in refrigerator:\n",
    "    print(\"고기를 꺼내세요\")"
   ]
  },
  {
   "cell_type": "code",
   "execution_count": 39,
   "metadata": {},
   "outputs": [
    {
     "name": "stdout",
     "output_type": "stream",
     "text": [
      "냉장고를 닫으세요\n"
     ]
    }
   ],
   "source": [
    "refrigerator = ['pork','beef','ramb','onion']\n",
    "if 'carrot' in refrigerator:\n",
    "    print(\"당근을 꺼내세요\")\n",
    "elif 'pumpkin' in refrigerator:\n",
    "    print(\"호박을 꺼내세요\")\n",
    "elif 'oyster' in refrigerator:\n",
    "    print(\"양파를 꺼내세요\")\n",
    "else:\n",
    "    print(\"냉장고를 닫으세요\")"
   ]
  },
  {
   "cell_type": "markdown",
   "metadata": {},
   "source": [
    "elif는 다중 조건 판단을 가능하게 한다. 이전 조건문이 거짓이여야 수행되며 개수 제한 없이 쓸 수 있다."
   ]
  },
  {
   "cell_type": "markdown",
   "metadata": {},
   "source": [
    "### 조건부 표현식"
   ]
  },
  {
   "cell_type": "code",
   "execution_count": 44,
   "metadata": {},
   "outputs": [
    {
     "name": "stdout",
     "output_type": "stream",
     "text": [
      "sliver\n"
     ]
    }
   ],
   "source": [
    "rating = 1000\n",
    "if rating >= 1000:\n",
    "    print ('sliver')\n",
    "else:\n",
    "    print ('bronze')"
   ]
  },
  {
   "cell_type": "code",
   "execution_count": 45,
   "metadata": {},
   "outputs": [
    {
     "name": "stdout",
     "output_type": "stream",
     "text": [
      "sliver\n"
     ]
    }
   ],
   "source": [
    "print('sliver') if rating >=1000 else 'bronze'"
   ]
  },
  {
   "cell_type": "markdown",
   "metadata": {},
   "source": [
    "[조건문이 참인 경우 / if / 조건문 / else / 조건문이 거짓인 경우] --> 가독성 편리! if/else 뒤에 :를 붙이지 않아도 된다"
   ]
  },
  {
   "cell_type": "markdown",
   "metadata": {},
   "source": [
    "## while문"
   ]
  },
  {
   "cell_type": "markdown",
   "metadata": {},
   "source": [
    "### 기본 구조"
   ]
  },
  {
   "cell_type": "code",
   "execution_count": 46,
   "metadata": {},
   "outputs": [
    {
     "name": "stdout",
     "output_type": "stream",
     "text": [
      "밥을 1번 먹었습니다.\n",
      "밥을 2번 먹었습니다.\n",
      "밥을 3번 먹었습니다.\n",
      "밥을 4번 먹었습니다.\n",
      "밥을 5번 먹었습니다.\n",
      "밥을 6번 먹었습니다.\n",
      "밥을 7번 먹었습니다.\n",
      "밥을 8번 먹었습니다.\n",
      "밥을 9번 먹었습니다.\n",
      "밥을 10번 먹었습니다.\n",
      "돼지가 되었습니다.\n"
     ]
    }
   ],
   "source": [
    "밥 = 0\n",
    "while 밥 < 10:\n",
    "    밥 = 밥 + 1\n",
    "    print('밥을 %s번 먹었습니다.' % 밥)\n",
    "if 밥 == 10:\n",
    "    print('돼지가 되었습니다.')"
   ]
  },
  {
   "cell_type": "markdown",
   "metadata": {},
   "source": [
    "while 조건문:\n",
    "    수행할 문장1\n",
    "    수행할 문장2\n",
    "    ..."
   ]
  },
  {
   "cell_type": "markdown",
   "metadata": {},
   "source": [
    "조건문이 참일 동안 while문 아래의 문장을 수행한다. 밥이 10이 되는 순간 조건문이 거짓이 되기에 while문을 빠져나간다."
   ]
  },
  {
   "cell_type": "markdown",
   "metadata": {},
   "source": [
    "### 만들기"
   ]
  },
  {
   "cell_type": "code",
   "execution_count": 18,
   "metadata": {},
   "outputs": [
    {
     "name": "stdout",
     "output_type": "stream",
     "text": [
      "\n",
      "1. Add\n",
      "2. Del\n",
      "3. List\n",
      "4. Quit\n",
      "...\n",
      "Enter number: \n",
      "4\n"
     ]
    }
   ],
   "source": [
    "prompt = '''\n",
    "1. Add\n",
    "2. Del\n",
    "3. List\n",
    "4. Quit\n",
    "...\n",
    "Enter number: '''\n",
    "number = 0\n",
    "while number != 4:\n",
    "    print (prompt)\n",
    "    number = int(input())"
   ]
  },
  {
   "cell_type": "markdown",
   "metadata": {},
   "source": [
    "### 강제로 빠져나가기"
   ]
  },
  {
   "cell_type": "code",
   "execution_count": 1,
   "metadata": {},
   "outputs": [
    {
     "name": "stdout",
     "output_type": "stream",
     "text": [
      "돈을 받았으니 음료를 드릴게요.\n",
      "남은 pepsi의 양은 9개입니다.\n",
      "돈을 받았으니 음료를 드릴게요.\n",
      "남은 pepsi의 양은 8개입니다.\n",
      "돈을 받았으니 음료를 드릴게요.\n",
      "남은 pepsi의 양은 7개입니다.\n",
      "돈을 받았으니 음료를 드릴게요.\n",
      "남은 pepsi의 양은 6개입니다.\n",
      "돈을 받았으니 음료를 드릴게요.\n",
      "남은 pepsi의 양은 5개입니다.\n",
      "돈을 받았으니 음료를 드릴게요.\n",
      "남은 pepsi의 양은 4개입니다.\n",
      "돈을 받았으니 음료를 드릴게요.\n",
      "남은 pepsi의 양은 3개입니다.\n",
      "돈을 받았으니 음료를 드릴게요.\n",
      "남은 pepsi의 양은 2개입니다.\n",
      "돈을 받았으니 음료를 드릴게요.\n",
      "남은 pepsi의 양은 1개입니다.\n",
      "돈을 받았으니 음료를 드릴게요.\n",
      "남은 pepsi의 양은 0개입니다.\n",
      "음료가 다 떨어졌네요. 이제 안 팔거에요.\n"
     ]
    }
   ],
   "source": [
    "pepsi = 10\n",
    "money = 1000\n",
    "while money:\n",
    "    print(\"돈을 받았으니 음료를 드릴게요.\")\n",
    "    pepsi = pepsi -1\n",
    "    print(\"남은 pepsi의 양은 %d개입니다.\" % pepsi)\n",
    "    if pepsi == 0:\n",
    "        print(\"음료가 다 떨어졌네요. 이제 안 팔거에요.\")\n",
    "        break"
   ]
  },
  {
   "cell_type": "markdown",
   "metadata": {},
   "source": [
    "조건문인 money는 0이 아니기에 항상 참. 그러므로 while문의 내용을 계속 수행한다. pepsi가 0이 되면 if문이 참이 되므로 if문 뒤의 문장을 수행하고 break를 통해 while문을 빠져나간다."
   ]
  },
  {
   "cell_type": "markdown",
   "metadata": {},
   "source": [
    "### while문의 처음으로 돌아가려면?"
   ]
  },
  {
   "cell_type": "code",
   "execution_count": 7,
   "metadata": {},
   "outputs": [
    {
     "name": "stdout",
     "output_type": "stream",
     "text": [
      "그만\n"
     ]
    }
   ],
   "source": [
    "a = 0\n",
    "while a < 10:\n",
    "    a = a +1\n",
    "if a == 10:\n",
    "    print('그만')"
   ]
  },
  {
   "cell_type": "code",
   "execution_count": 14,
   "metadata": {},
   "outputs": [
    {
     "name": "stdout",
     "output_type": "stream",
     "text": [
      "1\n",
      "3\n",
      "5\n",
      "7\n",
      "9\n"
     ]
    }
   ],
   "source": [
    "a = 0\n",
    "while a < 10:\n",
    "    a = a +1\n",
    "    if a % 2 == 0: continue\n",
    "    print(a)"
   ]
  },
  {
   "cell_type": "code",
   "execution_count": 15,
   "metadata": {},
   "outputs": [
    {
     "name": "stdout",
     "output_type": "stream",
     "text": [
      "2\n",
      "4\n",
      "6\n",
      "8\n",
      "10\n"
     ]
    }
   ],
   "source": [
    "a = 0\n",
    "while a < 10:\n",
    "    a = a +1\n",
    "    if a % 2 == 1: continue\n",
    "    print(a)"
   ]
  },
  {
   "cell_type": "markdown",
   "metadata": {},
   "source": [
    "a가 10보다 작을 동안 1씩 증가한다. a % 2 == 0은 a가 짝수일때 참이다. 참이면 continue를 수행해 while문의 처음인 조건문으로 되돌아간다. 되돌아간다면 print(a)가 수행되지 않을 것이다."
   ]
  },
  {
   "cell_type": "markdown",
   "metadata": {},
   "source": [
    "### 끝없는 루프"
   ]
  },
  {
   "cell_type": "code",
   "execution_count": 16,
   "metadata": {},
   "outputs": [],
   "source": [
    "while True:\n",
    "    print(\"던질까 말까\")\n",
    "    print(\"던질까 말까\")\n",
    "    print(\"던질까 말까\")\n",
    "    print(\"던질까 말까\")\n",
    "    print(\"던\")\n",
    "    print(\"던\")\n",
    "    print(\"던\")\n",
    "    print(\"던\")\n",
    "    print(\"던져\")\n",
    "    print(\"던져\")\n",
    "    print(\"Ctrl+c를 눌러야 나갈 수 있습니다.\")"
   ]
  },
  {
   "cell_type": "markdown",
   "metadata": {},
   "source": [
    "위 문장을 실행하면 영원히 던질까 말까와 함께 할 것이다."
   ]
  },
  {
   "cell_type": "markdown",
   "metadata": {},
   "source": [
    "## for문"
   ]
  },
  {
   "cell_type": "markdown",
   "metadata": {},
   "source": [
    "### 기본 구조"
   ]
  },
  {
   "cell_type": "code",
   "execution_count": 19,
   "metadata": {},
   "outputs": [
    {
     "name": "stdout",
     "output_type": "stream",
     "text": [
      "토익\n",
      "토스\n",
      "오픽\n",
      "텝스\n"
     ]
    }
   ],
   "source": [
    "a = ['토익','토스','오픽','텝스']\n",
    "for i in a:\n",
    "    print(i)"
   ]
  },
  {
   "cell_type": "markdown",
   "metadata": {},
   "source": [
    "a 리스트의 첫 요소인 '토익'이 변수 i에 대입되고서 print(i)를 수행한다. 리스트의 마지막 요소까지 반복한다."
   ]
  },
  {
   "cell_type": "markdown",
   "metadata": {},
   "source": [
    "리스트,튜플,문자열의 모든 요소가 차례로 변수에 대입되어 문장을 수행한다.\n",
    "for 변수 in 리스트,튜플,문자열:\n",
    "    수행할 문장1\n",
    "    수행할 문장2\n",
    "    ..."
   ]
  },
  {
   "cell_type": "code",
   "execution_count": 22,
   "metadata": {},
   "outputs": [
    {
     "name": "stdout",
     "output_type": "stream",
     "text": [
      "한국\n",
      "일본\n",
      "중국\n",
      "미국\n",
      "영국\n"
     ]
    }
   ],
   "source": [
    "a = [('한','국'),('일','본'),('중','국'),('미','국'),('영','국')]\n",
    "for (a, b) in a:\n",
    "    print(a + b)"
   ]
  },
  {
   "cell_type": "code",
   "execution_count": 23,
   "metadata": {},
   "outputs": [
    {
     "name": "stdout",
     "output_type": "stream",
     "text": [
      "1번 학생은 합격입니다.\n",
      "2번 학생은 불합격입니다.\n",
      "3번 학생은 합격입니다.\n",
      "4번 학생은 불합격입니다.\n",
      "5번 학생은 합격입니다.\n"
     ]
    }
   ],
   "source": [
    "marks = [90,25,67,45,80]\n",
    "number = 0\n",
    "for a in marks:\n",
    "    number = number +1\n",
    "    if a >= 60:\n",
    "        print(\"%d번 학생은 합격입니다.\" % number)\n",
    "    else:\n",
    "        print(\"%d번 학생은 불합격입니다.\" % number)"
   ]
  },
  {
   "cell_type": "code",
   "execution_count": 29,
   "metadata": {},
   "outputs": [
    {
     "name": "stdout",
     "output_type": "stream",
     "text": [
      "돈을 벌려면 출근을 하세요!\n",
      "돈을 벌려면 출근을 하세요!\n",
      "돈을 벌려면 출근을 하세요!\n",
      "돈을 벌려면 출근을 하세요!\n",
      "돈을 벌려면 출근을 하세요!\n",
      "돈을 벌려면 출근을 하세요!\n",
      "오늘은 쉬는 날이에요!\n",
      "돈을 벌려면 출근을 하세요!\n",
      "돈을 벌려면 출근을 하세요!\n",
      "돈을 벌려면 출근을 하세요!\n",
      "돈을 벌려면 출근을 하세요!\n",
      "돈을 벌려면 출근을 하세요!\n",
      "돈을 벌려면 출근을 하세요!\n",
      "오늘은 쉬는 날이에요!\n"
     ]
    }
   ],
   "source": [
    "day = [1,2,3,4,5,6,7,8,9,10,11,12,13,14]\n",
    "number = 0\n",
    "for a in day:\n",
    "    number = number +1\n",
    "    if a % 7 == 0:\n",
    "        print(\"오늘은 쉬는 날이에요!\")\n",
    "    else:\n",
    "        print(\"돈을 벌려면 출근을 하세요!\")"
   ]
  },
  {
   "cell_type": "markdown",
   "metadata": {},
   "source": [
    "### continue?"
   ]
  },
  {
   "cell_type": "code",
   "execution_count": 25,
   "metadata": {},
   "outputs": [
    {
     "name": "stdout",
     "output_type": "stream",
     "text": [
      "2번 학생은 합격입니다. 축하합니다!\n",
      "4번 학생은 합격입니다. 축하합니다!\n"
     ]
    }
   ],
   "source": [
    "marks = [90,25,67,45,80]\n",
    "number = 0\n",
    "for a in marks:\n",
    "    number = number +1\n",
    "    if a >= 60: continue\n",
    "    print(\"%d번 학생은 합격입니다. 축하합니다!\" % number)"
   ]
  },
  {
   "cell_type": "code",
   "execution_count": 32,
   "metadata": {},
   "outputs": [
    {
     "name": "stdout",
     "output_type": "stream",
     "text": [
      "오늘은 쉬는 날이에요!\n",
      "오늘은 쉬는 날이에요!\n"
     ]
    }
   ],
   "source": [
    "day = [1,2,3,4,5,6,7,8,9,10,11,12,13,14]\n",
    "number = 0\n",
    "for a in day:\n",
    "    number = number +1\n",
    "    if a % 7 != 0: continue\n",
    "    print(\"오늘은 쉬는 날이에요!\")"
   ]
  },
  {
   "cell_type": "markdown",
   "metadata": {},
   "source": [
    "for문에서의 continue 사용은 while문에서와 같다."
   ]
  },
  {
   "cell_type": "markdown",
   "metadata": {},
   "source": [
    "### for문에서의 range"
   ]
  },
  {
   "cell_type": "markdown",
   "metadata": {},
   "source": [
    "range(1,11) -> 1부터 10까지!"
   ]
  },
  {
   "cell_type": "code",
   "execution_count": 44,
   "metadata": {},
   "outputs": [
    {
     "name": "stdout",
     "output_type": "stream",
     "text": [
      "55\n"
     ]
    }
   ],
   "source": [
    "add = 0\n",
    "for i in range(1,11):\n",
    "    add = add + i\n",
    "print(add)\n"
   ]
  },
  {
   "cell_type": "code",
   "execution_count": 38,
   "metadata": {},
   "outputs": [
    {
     "name": "stdout",
     "output_type": "stream",
     "text": [
      "0번 학생 축하합니다. 합격입니다.\n",
      "2번 학생 축하합니다. 합격입니다.\n",
      "4번 학생 축하합니다. 합격입니다.\n"
     ]
    }
   ],
   "source": [
    "marks = [90,25,67,45,80]\n",
    "for number in range(len(marks)):\n",
    "    if marks[number] < 60: continue\n",
    "    print(\"%d번 학생 축하합니다. 합격입니다.\" % number)"
   ]
  },
  {
   "cell_type": "markdown",
   "metadata": {},
   "source": [
    "여기서의 len함수는 리스트의 요소 개수를 돌려준다. range(len(marks)) -> range(5)"
   ]
  },
  {
   "cell_type": "markdown",
   "metadata": {},
   "source": [
    "#### 구구단도 할 수 있어!"
   ]
  },
  {
   "cell_type": "code",
   "execution_count": 40,
   "metadata": {},
   "outputs": [
    {
     "name": "stdout",
     "output_type": "stream",
     "text": [
      "2 4 6 8 10 12 14 16 18 \n",
      "3 6 9 12 15 18 21 24 27 \n",
      "4 8 12 16 20 24 28 32 36 \n",
      "5 10 15 20 25 30 35 40 45 \n",
      "6 12 18 24 30 36 42 48 54 \n",
      "7 14 21 28 35 42 49 56 63 \n",
      "8 16 24 32 40 48 56 64 72 \n",
      "9 18 27 36 45 54 63 72 81 \n"
     ]
    }
   ],
   "source": [
    "for i in range(2,10):\n",
    "    for j in range(1,10):\n",
    "        print(i*j, end = \" \")\n",
    "    print('')"
   ]
  },
  {
   "cell_type": "markdown",
   "metadata": {},
   "source": [
    "첫번째 for문에서 2부터 9까지가 i에 대입되고 2번째 for문에서 1부터 9까지가 j에 대입됨. 그 후 print(i * j)를 수행하며 구구단을 출력함!"
   ]
  },
  {
   "cell_type": "markdown",
   "metadata": {},
   "source": [
    "줄을 안 넘기고 계속 출력하기 위해 매개변수 end를 사용했음. 2번째 print는 2단,3단을 구별하기 위해 2번째 for문이 끝나면 값을 다음 줄부터 출력하게 함."
   ]
  },
  {
   "cell_type": "markdown",
   "metadata": {},
   "source": [
    "### 리스트 내포?"
   ]
  },
  {
   "cell_type": "code",
   "execution_count": 43,
   "metadata": {},
   "outputs": [
    {
     "name": "stdout",
     "output_type": "stream",
     "text": [
      "[3, 6, 9, 12]\n"
     ]
    }
   ],
   "source": [
    "number = [1,2,3,4]\n",
    "result = []\n",
    "for num in number:\n",
    "    result.append(num*3)\n",
    "print(result)"
   ]
  },
  {
   "cell_type": "code",
   "execution_count": 48,
   "metadata": {},
   "outputs": [
    {
     "name": "stdout",
     "output_type": "stream",
     "text": [
      "[3, 6, 9, 12]\n"
     ]
    }
   ],
   "source": [
    "a = [1,2,3,4]\n",
    "result = [num*3 for num in a]\n",
    "print(result)"
   ]
  },
  {
   "cell_type": "code",
   "execution_count": 50,
   "metadata": {},
   "outputs": [
    {
     "name": "stdout",
     "output_type": "stream",
     "text": [
      "[18, 24]\n"
     ]
    }
   ],
   "source": [
    "a = [5,6,7,8]\n",
    "result = [num*3 for num in a if num % 2 == 0]\n",
    "print(result)"
   ]
  },
  {
   "cell_type": "markdown",
   "metadata": {},
   "source": [
    "표현식 for 항목 in 반복가능개체 if 조건문  -> 리스트 내포 문법! if 조건문 부분은 생략 가능"
   ]
  },
  {
   "cell_type": "markdown",
   "metadata": {},
   "source": [
    "### 생각해볼 것"
   ]
  },
  {
   "cell_type": "code",
   "execution_count": 45,
   "metadata": {},
   "outputs": [
    {
     "name": "stdout",
     "output_type": "stream",
     "text": [
      "55\n"
     ]
    }
   ],
   "source": [
    "add = 0\n",
    "for i in range(1,11):\n",
    "    add = add + i\n",
    "print(add)"
   ]
  },
  {
   "cell_type": "code",
   "execution_count": 46,
   "metadata": {},
   "outputs": [
    {
     "name": "stdout",
     "output_type": "stream",
     "text": [
      "1\n",
      "3\n",
      "6\n",
      "10\n",
      "15\n",
      "21\n",
      "28\n",
      "36\n",
      "45\n",
      "55\n"
     ]
    }
   ],
   "source": [
    "add = 0\n",
    "for i in range(1,11):\n",
    "    add = add + i\n",
    "    print(add)"
   ]
  },
  {
   "cell_type": "markdown",
   "metadata": {},
   "source": [
    "print(add)를 들여쓰기하였는지 아닌지에 따라 출력된 내용이 달라졌다. for문 안에 print가 들어간 경우 해당 리스트,튜플,문자열이 변수에 따라 연산된 것을 전부 출력한다."
   ]
  },
  {
   "cell_type": "markdown",
   "metadata": {},
   "source": [
    "# 연습문제"
   ]
  },
  {
   "cell_type": "code",
   "execution_count": 52,
   "metadata": {},
   "outputs": [
    {
     "name": "stdout",
     "output_type": "stream",
     "text": [
      "shirt\n"
     ]
    }
   ],
   "source": [
    "a = \"Life is too short, you need python\"\n",
    "\n",
    "if \"wife\" in a: print(\"wife\")\n",
    "elif \"python\" in a and \"you\" not in a: print(\"python\")\n",
    "elif \"shirt\" not in a: print(\"shirt\")\n",
    "elif \"need\" in a: print(\"need\")\n",
    "else: print(\"none\")"
   ]
  },
  {
   "cell_type": "code",
   "execution_count": null,
   "metadata": {},
   "outputs": [],
   "source": [
    "result = 0\n",
    "i = 1\n",
    "while i <= 1000:\n",
    "    if i % 3 == 0:\n",
    "        result += i\n",
    "    i += 1\n",
    "print(i)"
   ]
  },
  {
   "cell_type": "code",
   "execution_count": null,
   "metadata": {},
   "outputs": [],
   "source": [
    "i = 0\n",
    "while True:\n",
    "    i = i + 1\n",
    "    if 1 > 5:\n",
    "        break\n",
    "print('*' * i)"
   ]
  },
  {
   "cell_type": "code",
   "execution_count": null,
   "metadata": {},
   "outputs": [],
   "source": [
    "for i in range(1,101):\n",
    "    print(i)"
   ]
  },
  {
   "cell_type": "code",
   "execution_count": null,
   "metadata": {},
   "outputs": [],
   "source": [
    "marks = [70, 60, 55, 75, 95, 90, 80, 80, 85, 100]\n",
    "number = 0\n",
    "for score in marks:\n",
    "    number += score\n",
    "average = number / len(marks)\n",
    "print(average)"
   ]
  },
  {
   "cell_type": "code",
   "execution_count": 58,
   "metadata": {},
   "outputs": [],
   "source": [
    "numbers = [1, 2, 3, 4, 5]\n",
    "result = []\n",
    "for n in numbers:\n",
    "    if n % 2 == 1:\n",
    "        result.append(n*2)"
   ]
  },
  {
   "cell_type": "code",
   "execution_count": 62,
   "metadata": {},
   "outputs": [
    {
     "name": "stdout",
     "output_type": "stream",
     "text": [
      "[2, 6, 10]\n"
     ]
    }
   ],
   "source": [
    "numbers = [1,2,3,4,5]\n",
    "result = [num*2 for num in numbers if num % 2 == 1]\n",
    "print(result)"
   ]
  },
  {
   "cell_type": "code",
   "execution_count": null,
   "metadata": {},
   "outputs": [],
   "source": []
  }
 ],
 "metadata": {
  "kernelspec": {
   "display_name": "Python 3",
   "language": "python",
   "name": "python3"
  },
  "language_info": {
   "codemirror_mode": {
    "name": "ipython",
    "version": 3
   },
   "file_extension": ".py",
   "mimetype": "text/x-python",
   "name": "python",
   "nbconvert_exporter": "python",
   "pygments_lexer": "ipython3",
   "version": "3.7.6"
  }
 },
 "nbformat": 4,
 "nbformat_minor": 4
}
